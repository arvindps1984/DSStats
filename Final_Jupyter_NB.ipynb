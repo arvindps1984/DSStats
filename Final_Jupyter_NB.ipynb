{
  "nbformat": 4,
  "nbformat_minor": 0,
  "metadata": {
    "colab": {
      "provenance": [],
      "collapsed_sections": [
        "hqr46XNx6SJV",
        "OSasRJFawEks",
        "2JhAX3IPlBKI",
        "4qGEVViflQwp"
      ]
    },
    "kernelspec": {
      "name": "python3",
      "display_name": "Python 3"
    },
    "language_info": {
      "name": "python"
    }
  },
  "cells": [
    {
      "cell_type": "markdown",
      "source": [
        "## Topic: Analysis of the contributing factors and prediction of the outcome of a chess game ### \n",
        "\n",
        "Dataset: https://www.kaggle.com/datasets/maca11/chess-games-from-lichess-20132014\n",
        "\n",
        "Description:\n",
        "This dataset contains data from all rated games played in Lichess from January 2013 to December 2014, in total there are around 15.000.000 games. It includes names of the players, ratings, winner, opening, number of moves, etc.\n",
        "\n"
      ],
      "metadata": {
        "id": "dpK5XKysdVmI"
      }
    },
    {
      "cell_type": "markdown",
      "source": [
        "**Objective:** \n",
        "Our goal in this project is to study the factors that affect the chance of winning in a chess game. The dependent variable is the “Winner” and we consider possible contributing factors such as the Elo of the players, number of moves, etc. We also investigate the correlation that might exist between the independent variables.\n",
        "\n",
        "**Hypothesis to test : **\n",
        "\n",
        "*Hypothesis 1*: White Player has a greater chance of winning than the Black player. (Raghu)\n",
        "\n",
        "*Hypothesis 2*: The greater the difference in ratings of two players, the higher the probability of the higher-rated player to win. (Atie)\n",
        "\n",
        "Hypothesis 3: For games in the Ultrabullet (Less than 29 seconds)  and bullet (Less than the 179 seconds) categories, the white player is more likely to win. (Mantaj)\n",
        "\n",
        "**Predictive Model:**\n",
        "\n",
        "Predict the outcome of a game based on the information we have about the two players and other attributes of the game? (Arvind)\n"
      ],
      "metadata": {
        "id": "bT21lxvjePwW"
      }
    },
    {
      "cell_type": "markdown",
      "source": [
        "**Features of the Dataset:**\n",
        "\n",
        "**WhiteElo**: Elo of the player with white pieces which shows their level of \n",
        "proficiency\n",
        "\n",
        "**BlackElo**: Elo of the player with black pieces which shows their level of proficiency\n",
        "\n",
        "WhiteName: Name of the player with white pieces\n",
        "\n",
        "BlackName: Name of the player with black pieces\n",
        "\n",
        "**Winner**: Color of the winning pieces. If the game ended in Draw it shows it.\n",
        "\n",
        "**Termination**: How the game ended, it can be: Normal, Time Forfeit, Abandon or Rules infraction.\n",
        "- Normal: When the game end in checkmate, abandon or draw\n",
        "- Time Forfeit: When one of the players runs out of time\n",
        "- Abandon: When in a competition one of the players doesn't make a move\n",
        "- Rules infraction: When one of the players is banned\n",
        "\n",
        "Site: URL of the game\n",
        "\n",
        "Day: Day when the game was played\n",
        "\n",
        "Month: Month when the game was played\n",
        "\n",
        "Year: Year when the game was played\n",
        "\n",
        "**InitialTime**: Time each player has before starting the game in seconds\n",
        "\n",
        "**Increment**: Increment in the time after each player makes a move in seconds\n",
        "\n",
        "**TimeControl**: Classification of the games based on the estimated duration of a game calculated as InitialTime+ 40*Increment. If estimated duration:\n",
        "- <=29s: Ultrabullet\n",
        "- <=179s: Bullet\n",
        "- <=479s: Blitz\n",
        "- <=1499s: Rapid\n",
        "- Bigger or equal than 1500s: Classical\n",
        "\n",
        "**Opening**: Opening Name\n",
        "\n",
        "**ECO**: Classification of the games based on the ECO(Encyclopaedia of Chess Openings ) code\n",
        "\n",
        "**Number of Moves**: Number of moves of the game\n",
        "\n",
        "FEN: FEN of the game"
      ],
      "metadata": {
        "id": "XLBPE450Oy2n"
      }
    },
    {
      "cell_type": "markdown",
      "source": [
        "# Import Libraries and Data Setup #"
      ],
      "metadata": {
        "id": "IMUEvmPSepsH"
      }
    },
    {
      "cell_type": "code",
      "execution_count": 4,
      "metadata": {
        "id": "y8gvxWNhdJr-"
      },
      "outputs": [],
      "source": [
        "# Import libraries\n",
        "import numpy as np  \n",
        "import pandas as pd \n",
        "\n",
        "import matplotlib.pyplot as plt \n",
        "%matplotlib inline\n",
        "import matplotlib.ticker as ticker\n",
        "\n",
        "import datetime\n",
        "\n",
        "import seaborn as sns\n",
        "sns.set_theme(context='paper', style='whitegrid', palette=\"deep\", font='sans-serif', font_scale=1, color_codes=True, rc=None)\n",
        "\n",
        "import statsmodels.api as sm\n",
        "from statsmodels.discrete.discrete_model import Logit\n",
        "\n",
        "import scipy\n",
        "from scipy import stats\n",
        "from scipy.stats import norm\n",
        "from scipy.special import logit\n",
        "\n",
        "from sklearn.preprocessing import MinMaxScaler, StandardScaler\n",
        "from sklearn.linear_model import LinearRegression, LogisticRegression\n",
        "from sklearn.metrics import classification_report, confusion_matrix\n",
        "\n"
      ]
    },
    {
      "cell_type": "code",
      "source": [
        "#Install PyDrive\n",
        "\n",
        "!pip install -U -q PyDrive\n",
        "from pydrive.auth import GoogleAuth\n",
        "from pydrive.drive import GoogleDrive\n",
        "from google.colab import auth\n",
        "from oauth2client.client import GoogleCredentials"
      ],
      "metadata": {
        "id": "kYLZl-TCeoaA"
      },
      "execution_count": 5,
      "outputs": []
    },
    {
      "cell_type": "code",
      "source": [
        "auth.authenticate_user()\n",
        "gauth = GoogleAuth()\n",
        "gauth.credentials = GoogleCredentials.get_application_default()\n",
        "drive = GoogleDrive(gauth)"
      ],
      "metadata": {
        "id": "zPcWOkhvexzw"
      },
      "execution_count": 6,
      "outputs": []
    },
    {
      "cell_type": "code",
      "source": [
        "# Getting the file_id \n",
        "\n",
        "filedownloaded = drive.CreateFile({'id':'1-5dKb8PXKf9aCsjyBCg2S_-7t2A9GQX7'})"
      ],
      "metadata": {
        "id": "obhonI-35Lsf"
      },
      "execution_count": 7,
      "outputs": []
    },
    {
      "cell_type": "code",
      "source": [
        "# Load the csv\n",
        "filedownloaded.GetContentFile('Lichess_2013_wl_df_export_Final.csv')"
      ],
      "metadata": {
        "id": "qD3tY0GW5RLZ"
      },
      "execution_count": 8,
      "outputs": []
    },
    {
      "cell_type": "code",
      "source": [
        "# Load the 2013 Lichess Dataset into the df_fnl Dataframe\n",
        "\n",
        "df_fnl = pd.read_csv('Lichess_2013_wl_df_export_Final.csv', sep=',')"
      ],
      "metadata": {
        "id": "ndBSuzbuMGC2"
      },
      "execution_count": 9,
      "outputs": []
    },
    {
      "cell_type": "code",
      "source": [
        "df_fnl.head(5)"
      ],
      "metadata": {
        "colab": {
          "base_uri": "https://localhost:8080/",
          "height": 206
        },
        "id": "V5MsKSELMGAK",
        "outputId": "2aeb65d5-fd0a-472c-8018-1c4509d27070"
      },
      "execution_count": 10,
      "outputs": [
        {
          "output_type": "execute_result",
          "data": {
            "text/plain": [
              "   Unnamed: 0  WhiteElo  BlackElo Winner   Termination  Day  Month  Year  \\\n",
              "0         134      1516      1480  White  Time forfeit    1      1  2013   \n",
              "1         135      1231      1814  Black        Normal    1      1  2013   \n",
              "2         136      1612      1555  Black        Normal    1      1  2013   \n",
              "3         137      1879      1237  White  Time forfeit    1      1  2013   \n",
              "4         138      1815      1222  White  Time forfeit    1      1  2013   \n",
              "\n",
              "   InitialTime  Increment TimeControl  Number_of_Moves  \n",
              "0           60          0      Bullet               28  \n",
              "1           60          0      Bullet               19  \n",
              "2           60          1      Bullet               13  \n",
              "3           60          0      Bullet               21  \n",
              "4           60          0      Bullet               33  "
            ],
            "text/html": [
              "\n",
              "  <div id=\"df-74cdefa4-bb77-4688-9f2c-a7d5eade21c2\">\n",
              "    <div class=\"colab-df-container\">\n",
              "      <div>\n",
              "<style scoped>\n",
              "    .dataframe tbody tr th:only-of-type {\n",
              "        vertical-align: middle;\n",
              "    }\n",
              "\n",
              "    .dataframe tbody tr th {\n",
              "        vertical-align: top;\n",
              "    }\n",
              "\n",
              "    .dataframe thead th {\n",
              "        text-align: right;\n",
              "    }\n",
              "</style>\n",
              "<table border=\"1\" class=\"dataframe\">\n",
              "  <thead>\n",
              "    <tr style=\"text-align: right;\">\n",
              "      <th></th>\n",
              "      <th>Unnamed: 0</th>\n",
              "      <th>WhiteElo</th>\n",
              "      <th>BlackElo</th>\n",
              "      <th>Winner</th>\n",
              "      <th>Termination</th>\n",
              "      <th>Day</th>\n",
              "      <th>Month</th>\n",
              "      <th>Year</th>\n",
              "      <th>InitialTime</th>\n",
              "      <th>Increment</th>\n",
              "      <th>TimeControl</th>\n",
              "      <th>Number_of_Moves</th>\n",
              "    </tr>\n",
              "  </thead>\n",
              "  <tbody>\n",
              "    <tr>\n",
              "      <th>0</th>\n",
              "      <td>134</td>\n",
              "      <td>1516</td>\n",
              "      <td>1480</td>\n",
              "      <td>White</td>\n",
              "      <td>Time forfeit</td>\n",
              "      <td>1</td>\n",
              "      <td>1</td>\n",
              "      <td>2013</td>\n",
              "      <td>60</td>\n",
              "      <td>0</td>\n",
              "      <td>Bullet</td>\n",
              "      <td>28</td>\n",
              "    </tr>\n",
              "    <tr>\n",
              "      <th>1</th>\n",
              "      <td>135</td>\n",
              "      <td>1231</td>\n",
              "      <td>1814</td>\n",
              "      <td>Black</td>\n",
              "      <td>Normal</td>\n",
              "      <td>1</td>\n",
              "      <td>1</td>\n",
              "      <td>2013</td>\n",
              "      <td>60</td>\n",
              "      <td>0</td>\n",
              "      <td>Bullet</td>\n",
              "      <td>19</td>\n",
              "    </tr>\n",
              "    <tr>\n",
              "      <th>2</th>\n",
              "      <td>136</td>\n",
              "      <td>1612</td>\n",
              "      <td>1555</td>\n",
              "      <td>Black</td>\n",
              "      <td>Normal</td>\n",
              "      <td>1</td>\n",
              "      <td>1</td>\n",
              "      <td>2013</td>\n",
              "      <td>60</td>\n",
              "      <td>1</td>\n",
              "      <td>Bullet</td>\n",
              "      <td>13</td>\n",
              "    </tr>\n",
              "    <tr>\n",
              "      <th>3</th>\n",
              "      <td>137</td>\n",
              "      <td>1879</td>\n",
              "      <td>1237</td>\n",
              "      <td>White</td>\n",
              "      <td>Time forfeit</td>\n",
              "      <td>1</td>\n",
              "      <td>1</td>\n",
              "      <td>2013</td>\n",
              "      <td>60</td>\n",
              "      <td>0</td>\n",
              "      <td>Bullet</td>\n",
              "      <td>21</td>\n",
              "    </tr>\n",
              "    <tr>\n",
              "      <th>4</th>\n",
              "      <td>138</td>\n",
              "      <td>1815</td>\n",
              "      <td>1222</td>\n",
              "      <td>White</td>\n",
              "      <td>Time forfeit</td>\n",
              "      <td>1</td>\n",
              "      <td>1</td>\n",
              "      <td>2013</td>\n",
              "      <td>60</td>\n",
              "      <td>0</td>\n",
              "      <td>Bullet</td>\n",
              "      <td>33</td>\n",
              "    </tr>\n",
              "  </tbody>\n",
              "</table>\n",
              "</div>\n",
              "      <button class=\"colab-df-convert\" onclick=\"convertToInteractive('df-74cdefa4-bb77-4688-9f2c-a7d5eade21c2')\"\n",
              "              title=\"Convert this dataframe to an interactive table.\"\n",
              "              style=\"display:none;\">\n",
              "        \n",
              "  <svg xmlns=\"http://www.w3.org/2000/svg\" height=\"24px\"viewBox=\"0 0 24 24\"\n",
              "       width=\"24px\">\n",
              "    <path d=\"M0 0h24v24H0V0z\" fill=\"none\"/>\n",
              "    <path d=\"M18.56 5.44l.94 2.06.94-2.06 2.06-.94-2.06-.94-.94-2.06-.94 2.06-2.06.94zm-11 1L8.5 8.5l.94-2.06 2.06-.94-2.06-.94L8.5 2.5l-.94 2.06-2.06.94zm10 10l.94 2.06.94-2.06 2.06-.94-2.06-.94-.94-2.06-.94 2.06-2.06.94z\"/><path d=\"M17.41 7.96l-1.37-1.37c-.4-.4-.92-.59-1.43-.59-.52 0-1.04.2-1.43.59L10.3 9.45l-7.72 7.72c-.78.78-.78 2.05 0 2.83L4 21.41c.39.39.9.59 1.41.59.51 0 1.02-.2 1.41-.59l7.78-7.78 2.81-2.81c.8-.78.8-2.07 0-2.86zM5.41 20L4 18.59l7.72-7.72 1.47 1.35L5.41 20z\"/>\n",
              "  </svg>\n",
              "      </button>\n",
              "      \n",
              "  <style>\n",
              "    .colab-df-container {\n",
              "      display:flex;\n",
              "      flex-wrap:wrap;\n",
              "      gap: 12px;\n",
              "    }\n",
              "\n",
              "    .colab-df-convert {\n",
              "      background-color: #E8F0FE;\n",
              "      border: none;\n",
              "      border-radius: 50%;\n",
              "      cursor: pointer;\n",
              "      display: none;\n",
              "      fill: #1967D2;\n",
              "      height: 32px;\n",
              "      padding: 0 0 0 0;\n",
              "      width: 32px;\n",
              "    }\n",
              "\n",
              "    .colab-df-convert:hover {\n",
              "      background-color: #E2EBFA;\n",
              "      box-shadow: 0px 1px 2px rgba(60, 64, 67, 0.3), 0px 1px 3px 1px rgba(60, 64, 67, 0.15);\n",
              "      fill: #174EA6;\n",
              "    }\n",
              "\n",
              "    [theme=dark] .colab-df-convert {\n",
              "      background-color: #3B4455;\n",
              "      fill: #D2E3FC;\n",
              "    }\n",
              "\n",
              "    [theme=dark] .colab-df-convert:hover {\n",
              "      background-color: #434B5C;\n",
              "      box-shadow: 0px 1px 3px 1px rgba(0, 0, 0, 0.15);\n",
              "      filter: drop-shadow(0px 1px 2px rgba(0, 0, 0, 0.3));\n",
              "      fill: #FFFFFF;\n",
              "    }\n",
              "  </style>\n",
              "\n",
              "      <script>\n",
              "        const buttonEl =\n",
              "          document.querySelector('#df-74cdefa4-bb77-4688-9f2c-a7d5eade21c2 button.colab-df-convert');\n",
              "        buttonEl.style.display =\n",
              "          google.colab.kernel.accessAllowed ? 'block' : 'none';\n",
              "\n",
              "        async function convertToInteractive(key) {\n",
              "          const element = document.querySelector('#df-74cdefa4-bb77-4688-9f2c-a7d5eade21c2');\n",
              "          const dataTable =\n",
              "            await google.colab.kernel.invokeFunction('convertToInteractive',\n",
              "                                                     [key], {});\n",
              "          if (!dataTable) return;\n",
              "\n",
              "          const docLinkHtml = 'Like what you see? Visit the ' +\n",
              "            '<a target=\"_blank\" href=https://colab.research.google.com/notebooks/data_table.ipynb>data table notebook</a>'\n",
              "            + ' to learn more about interactive tables.';\n",
              "          element.innerHTML = '';\n",
              "          dataTable['output_type'] = 'display_data';\n",
              "          await google.colab.output.renderOutput(dataTable, element);\n",
              "          const docLink = document.createElement('div');\n",
              "          docLink.innerHTML = docLinkHtml;\n",
              "          element.appendChild(docLink);\n",
              "        }\n",
              "      </script>\n",
              "    </div>\n",
              "  </div>\n",
              "  "
            ]
          },
          "metadata": {},
          "execution_count": 10
        }
      ]
    },
    {
      "cell_type": "code",
      "source": [
        "df_fnl.info()"
      ],
      "metadata": {
        "colab": {
          "base_uri": "https://localhost:8080/"
        },
        "id": "fD0vfUODye52",
        "outputId": "6935ed1e-bd6d-4422-b328-eff2be13a0a6"
      },
      "execution_count": 11,
      "outputs": [
        {
          "output_type": "stream",
          "name": "stdout",
          "text": [
            "<class 'pandas.core.frame.DataFrame'>\n",
            "RangeIndex: 3269322 entries, 0 to 3269321\n",
            "Data columns (total 12 columns):\n",
            " #   Column           Dtype \n",
            "---  ------           ----- \n",
            " 0   Unnamed: 0       int64 \n",
            " 1   WhiteElo         int64 \n",
            " 2   BlackElo         int64 \n",
            " 3   Winner           object\n",
            " 4   Termination      object\n",
            " 5   Day              int64 \n",
            " 6   Month            int64 \n",
            " 7   Year             int64 \n",
            " 8   InitialTime      int64 \n",
            " 9   Increment        int64 \n",
            " 10  TimeControl      object\n",
            " 11  Number_of_Moves  int64 \n",
            "dtypes: int64(9), object(3)\n",
            "memory usage: 299.3+ MB\n"
          ]
        }
      ]
    },
    {
      "cell_type": "code",
      "source": [
        "df_fnl.nunique()"
      ],
      "metadata": {
        "colab": {
          "base_uri": "https://localhost:8080/"
        },
        "id": "m22C1S7jyfTP",
        "outputId": "455713f4-c4b7-4713-8a8b-86c6d21a67c4"
      },
      "execution_count": 12,
      "outputs": [
        {
          "output_type": "execute_result",
          "data": {
            "text/plain": [
              "Unnamed: 0         3269322\n",
              "WhiteElo              1748\n",
              "BlackElo              1766\n",
              "Winner                   2\n",
              "Termination              3\n",
              "Day                     31\n",
              "Month                   12\n",
              "Year                     1\n",
              "InitialTime             39\n",
              "Increment               40\n",
              "TimeControl              4\n",
              "Number_of_Moves        158\n",
              "dtype: int64"
            ]
          },
          "metadata": {},
          "execution_count": 12
        }
      ]
    },
    {
      "cell_type": "markdown",
      "source": [
        "# Exploratory Data Analysis #"
      ],
      "metadata": {
        "id": "hqr46XNx6SJV"
      }
    },
    {
      "cell_type": "code",
      "source": [
        "# Defining case_when Function\n",
        "\n",
        "def case_when(*args):\n",
        "    return np.select(\n",
        "        condlist = [args[i] for i in range(0, len(args), 2)],\n",
        "        choicelist = [args[i] for i in range(1, len(args), 2)],\n",
        "        default=pd.NA\n",
        "    )"
      ],
      "metadata": {
        "id": "ItsWcHaaO8ot"
      },
      "execution_count": 13,
      "outputs": []
    },
    {
      "cell_type": "code",
      "source": [
        "# Coding numbers against the 2 categorical variables White - 1 and Black as 0\n",
        "df_fnl['Win_Color'] = case_when(df_fnl['Winner'] == \"White\", 1,\n",
        "                              df_fnl['Winner'] == \"Black\", 0 \n",
        "                              )"
      ],
      "metadata": {
        "id": "h1vGT15XB6Dp"
      },
      "execution_count": 14,
      "outputs": []
    },
    {
      "cell_type": "code",
      "source": [
        "# Creating a new feature - \"Rating\" that pseudo codes the color that has the higher rating among the 2 players\n",
        "\n",
        "df_fnl['Rating'] = case_when(df_fnl['WhiteElo'] == df_fnl['BlackElo'], \"EQ\" ,\n",
        "                                  df_fnl['WhiteElo'] > df_fnl['BlackElo'], \"W\" ,\n",
        "                                  df_fnl['WhiteElo'] < df_fnl['BlackElo'], \"B\" \n",
        "                                 )"
      ],
      "metadata": {
        "id": "cOK5_c4yagff"
      },
      "execution_count": 15,
      "outputs": []
    },
    {
      "cell_type": "code",
      "source": [
        "df_fnl['Rating'].value_counts()"
      ],
      "metadata": {
        "colab": {
          "base_uri": "https://localhost:8080/"
        },
        "id": "Sj7NGRBaIuQ3",
        "outputId": "d4a86719-2f8b-4cff-aa56-c0ccc457f75c"
      },
      "execution_count": 16,
      "outputs": [
        {
          "output_type": "execute_result",
          "data": {
            "text/plain": [
              "W     1695100\n",
              "B     1564554\n",
              "EQ       9668\n",
              "Name: Rating, dtype: int64"
            ]
          },
          "metadata": {},
          "execution_count": 16
        }
      ]
    },
    {
      "cell_type": "code",
      "source": [
        "# Performing One Hot Encoding on TimeControl, Termination and Rating columns\n",
        "\n",
        "dummy_time= pd.get_dummies(df_fnl['TimeControl'], prefix ='TimeControl')\n",
        "dummy_term = pd.get_dummies(df_fnl['Termination'], prefix ='Term')\n",
        "dummy_rating = pd.get_dummies(df_fnl['Rating'], prefix ='Rating')"
      ],
      "metadata": {
        "id": "O2VfqfBR70G7"
      },
      "execution_count": 17,
      "outputs": []
    },
    {
      "cell_type": "code",
      "source": [
        "dummy_time.head(5)"
      ],
      "metadata": {
        "colab": {
          "base_uri": "https://localhost:8080/",
          "height": 206
        },
        "id": "qGZIF1aj8Yq6",
        "outputId": "a6a8dab7-4c76-4c70-86de-1b59d3b8af19"
      },
      "execution_count": 18,
      "outputs": [
        {
          "output_type": "execute_result",
          "data": {
            "text/plain": [
              "   TimeControl_Blitz  TimeControl_Bullet  TimeControl_Classical  \\\n",
              "0                  0                   1                      0   \n",
              "1                  0                   1                      0   \n",
              "2                  0                   1                      0   \n",
              "3                  0                   1                      0   \n",
              "4                  0                   1                      0   \n",
              "\n",
              "   TimeControl_Rapid  \n",
              "0                  0  \n",
              "1                  0  \n",
              "2                  0  \n",
              "3                  0  \n",
              "4                  0  "
            ],
            "text/html": [
              "\n",
              "  <div id=\"df-5361b467-eb46-46a4-810d-30fce0385129\">\n",
              "    <div class=\"colab-df-container\">\n",
              "      <div>\n",
              "<style scoped>\n",
              "    .dataframe tbody tr th:only-of-type {\n",
              "        vertical-align: middle;\n",
              "    }\n",
              "\n",
              "    .dataframe tbody tr th {\n",
              "        vertical-align: top;\n",
              "    }\n",
              "\n",
              "    .dataframe thead th {\n",
              "        text-align: right;\n",
              "    }\n",
              "</style>\n",
              "<table border=\"1\" class=\"dataframe\">\n",
              "  <thead>\n",
              "    <tr style=\"text-align: right;\">\n",
              "      <th></th>\n",
              "      <th>TimeControl_Blitz</th>\n",
              "      <th>TimeControl_Bullet</th>\n",
              "      <th>TimeControl_Classical</th>\n",
              "      <th>TimeControl_Rapid</th>\n",
              "    </tr>\n",
              "  </thead>\n",
              "  <tbody>\n",
              "    <tr>\n",
              "      <th>0</th>\n",
              "      <td>0</td>\n",
              "      <td>1</td>\n",
              "      <td>0</td>\n",
              "      <td>0</td>\n",
              "    </tr>\n",
              "    <tr>\n",
              "      <th>1</th>\n",
              "      <td>0</td>\n",
              "      <td>1</td>\n",
              "      <td>0</td>\n",
              "      <td>0</td>\n",
              "    </tr>\n",
              "    <tr>\n",
              "      <th>2</th>\n",
              "      <td>0</td>\n",
              "      <td>1</td>\n",
              "      <td>0</td>\n",
              "      <td>0</td>\n",
              "    </tr>\n",
              "    <tr>\n",
              "      <th>3</th>\n",
              "      <td>0</td>\n",
              "      <td>1</td>\n",
              "      <td>0</td>\n",
              "      <td>0</td>\n",
              "    </tr>\n",
              "    <tr>\n",
              "      <th>4</th>\n",
              "      <td>0</td>\n",
              "      <td>1</td>\n",
              "      <td>0</td>\n",
              "      <td>0</td>\n",
              "    </tr>\n",
              "  </tbody>\n",
              "</table>\n",
              "</div>\n",
              "      <button class=\"colab-df-convert\" onclick=\"convertToInteractive('df-5361b467-eb46-46a4-810d-30fce0385129')\"\n",
              "              title=\"Convert this dataframe to an interactive table.\"\n",
              "              style=\"display:none;\">\n",
              "        \n",
              "  <svg xmlns=\"http://www.w3.org/2000/svg\" height=\"24px\"viewBox=\"0 0 24 24\"\n",
              "       width=\"24px\">\n",
              "    <path d=\"M0 0h24v24H0V0z\" fill=\"none\"/>\n",
              "    <path d=\"M18.56 5.44l.94 2.06.94-2.06 2.06-.94-2.06-.94-.94-2.06-.94 2.06-2.06.94zm-11 1L8.5 8.5l.94-2.06 2.06-.94-2.06-.94L8.5 2.5l-.94 2.06-2.06.94zm10 10l.94 2.06.94-2.06 2.06-.94-2.06-.94-.94-2.06-.94 2.06-2.06.94z\"/><path d=\"M17.41 7.96l-1.37-1.37c-.4-.4-.92-.59-1.43-.59-.52 0-1.04.2-1.43.59L10.3 9.45l-7.72 7.72c-.78.78-.78 2.05 0 2.83L4 21.41c.39.39.9.59 1.41.59.51 0 1.02-.2 1.41-.59l7.78-7.78 2.81-2.81c.8-.78.8-2.07 0-2.86zM5.41 20L4 18.59l7.72-7.72 1.47 1.35L5.41 20z\"/>\n",
              "  </svg>\n",
              "      </button>\n",
              "      \n",
              "  <style>\n",
              "    .colab-df-container {\n",
              "      display:flex;\n",
              "      flex-wrap:wrap;\n",
              "      gap: 12px;\n",
              "    }\n",
              "\n",
              "    .colab-df-convert {\n",
              "      background-color: #E8F0FE;\n",
              "      border: none;\n",
              "      border-radius: 50%;\n",
              "      cursor: pointer;\n",
              "      display: none;\n",
              "      fill: #1967D2;\n",
              "      height: 32px;\n",
              "      padding: 0 0 0 0;\n",
              "      width: 32px;\n",
              "    }\n",
              "\n",
              "    .colab-df-convert:hover {\n",
              "      background-color: #E2EBFA;\n",
              "      box-shadow: 0px 1px 2px rgba(60, 64, 67, 0.3), 0px 1px 3px 1px rgba(60, 64, 67, 0.15);\n",
              "      fill: #174EA6;\n",
              "    }\n",
              "\n",
              "    [theme=dark] .colab-df-convert {\n",
              "      background-color: #3B4455;\n",
              "      fill: #D2E3FC;\n",
              "    }\n",
              "\n",
              "    [theme=dark] .colab-df-convert:hover {\n",
              "      background-color: #434B5C;\n",
              "      box-shadow: 0px 1px 3px 1px rgba(0, 0, 0, 0.15);\n",
              "      filter: drop-shadow(0px 1px 2px rgba(0, 0, 0, 0.3));\n",
              "      fill: #FFFFFF;\n",
              "    }\n",
              "  </style>\n",
              "\n",
              "      <script>\n",
              "        const buttonEl =\n",
              "          document.querySelector('#df-5361b467-eb46-46a4-810d-30fce0385129 button.colab-df-convert');\n",
              "        buttonEl.style.display =\n",
              "          google.colab.kernel.accessAllowed ? 'block' : 'none';\n",
              "\n",
              "        async function convertToInteractive(key) {\n",
              "          const element = document.querySelector('#df-5361b467-eb46-46a4-810d-30fce0385129');\n",
              "          const dataTable =\n",
              "            await google.colab.kernel.invokeFunction('convertToInteractive',\n",
              "                                                     [key], {});\n",
              "          if (!dataTable) return;\n",
              "\n",
              "          const docLinkHtml = 'Like what you see? Visit the ' +\n",
              "            '<a target=\"_blank\" href=https://colab.research.google.com/notebooks/data_table.ipynb>data table notebook</a>'\n",
              "            + ' to learn more about interactive tables.';\n",
              "          element.innerHTML = '';\n",
              "          dataTable['output_type'] = 'display_data';\n",
              "          await google.colab.output.renderOutput(dataTable, element);\n",
              "          const docLink = document.createElement('div');\n",
              "          docLink.innerHTML = docLinkHtml;\n",
              "          element.appendChild(docLink);\n",
              "        }\n",
              "      </script>\n",
              "    </div>\n",
              "  </div>\n",
              "  "
            ]
          },
          "metadata": {},
          "execution_count": 18
        }
      ]
    },
    {
      "cell_type": "code",
      "source": [
        "dummy_term.head(5)"
      ],
      "metadata": {
        "colab": {
          "base_uri": "https://localhost:8080/",
          "height": 206
        },
        "id": "WyPFqMnJd7H4",
        "outputId": "e28cdd6c-e200-4ffe-ca9d-2f332674a4ce"
      },
      "execution_count": 19,
      "outputs": [
        {
          "output_type": "execute_result",
          "data": {
            "text/plain": [
              "   Term_Normal  Term_Rules infraction  Term_Time forfeit\n",
              "0            0                      0                  1\n",
              "1            1                      0                  0\n",
              "2            1                      0                  0\n",
              "3            0                      0                  1\n",
              "4            0                      0                  1"
            ],
            "text/html": [
              "\n",
              "  <div id=\"df-8b526f47-b577-4318-896e-c7ff7a98795b\">\n",
              "    <div class=\"colab-df-container\">\n",
              "      <div>\n",
              "<style scoped>\n",
              "    .dataframe tbody tr th:only-of-type {\n",
              "        vertical-align: middle;\n",
              "    }\n",
              "\n",
              "    .dataframe tbody tr th {\n",
              "        vertical-align: top;\n",
              "    }\n",
              "\n",
              "    .dataframe thead th {\n",
              "        text-align: right;\n",
              "    }\n",
              "</style>\n",
              "<table border=\"1\" class=\"dataframe\">\n",
              "  <thead>\n",
              "    <tr style=\"text-align: right;\">\n",
              "      <th></th>\n",
              "      <th>Term_Normal</th>\n",
              "      <th>Term_Rules infraction</th>\n",
              "      <th>Term_Time forfeit</th>\n",
              "    </tr>\n",
              "  </thead>\n",
              "  <tbody>\n",
              "    <tr>\n",
              "      <th>0</th>\n",
              "      <td>0</td>\n",
              "      <td>0</td>\n",
              "      <td>1</td>\n",
              "    </tr>\n",
              "    <tr>\n",
              "      <th>1</th>\n",
              "      <td>1</td>\n",
              "      <td>0</td>\n",
              "      <td>0</td>\n",
              "    </tr>\n",
              "    <tr>\n",
              "      <th>2</th>\n",
              "      <td>1</td>\n",
              "      <td>0</td>\n",
              "      <td>0</td>\n",
              "    </tr>\n",
              "    <tr>\n",
              "      <th>3</th>\n",
              "      <td>0</td>\n",
              "      <td>0</td>\n",
              "      <td>1</td>\n",
              "    </tr>\n",
              "    <tr>\n",
              "      <th>4</th>\n",
              "      <td>0</td>\n",
              "      <td>0</td>\n",
              "      <td>1</td>\n",
              "    </tr>\n",
              "  </tbody>\n",
              "</table>\n",
              "</div>\n",
              "      <button class=\"colab-df-convert\" onclick=\"convertToInteractive('df-8b526f47-b577-4318-896e-c7ff7a98795b')\"\n",
              "              title=\"Convert this dataframe to an interactive table.\"\n",
              "              style=\"display:none;\">\n",
              "        \n",
              "  <svg xmlns=\"http://www.w3.org/2000/svg\" height=\"24px\"viewBox=\"0 0 24 24\"\n",
              "       width=\"24px\">\n",
              "    <path d=\"M0 0h24v24H0V0z\" fill=\"none\"/>\n",
              "    <path d=\"M18.56 5.44l.94 2.06.94-2.06 2.06-.94-2.06-.94-.94-2.06-.94 2.06-2.06.94zm-11 1L8.5 8.5l.94-2.06 2.06-.94-2.06-.94L8.5 2.5l-.94 2.06-2.06.94zm10 10l.94 2.06.94-2.06 2.06-.94-2.06-.94-.94-2.06-.94 2.06-2.06.94z\"/><path d=\"M17.41 7.96l-1.37-1.37c-.4-.4-.92-.59-1.43-.59-.52 0-1.04.2-1.43.59L10.3 9.45l-7.72 7.72c-.78.78-.78 2.05 0 2.83L4 21.41c.39.39.9.59 1.41.59.51 0 1.02-.2 1.41-.59l7.78-7.78 2.81-2.81c.8-.78.8-2.07 0-2.86zM5.41 20L4 18.59l7.72-7.72 1.47 1.35L5.41 20z\"/>\n",
              "  </svg>\n",
              "      </button>\n",
              "      \n",
              "  <style>\n",
              "    .colab-df-container {\n",
              "      display:flex;\n",
              "      flex-wrap:wrap;\n",
              "      gap: 12px;\n",
              "    }\n",
              "\n",
              "    .colab-df-convert {\n",
              "      background-color: #E8F0FE;\n",
              "      border: none;\n",
              "      border-radius: 50%;\n",
              "      cursor: pointer;\n",
              "      display: none;\n",
              "      fill: #1967D2;\n",
              "      height: 32px;\n",
              "      padding: 0 0 0 0;\n",
              "      width: 32px;\n",
              "    }\n",
              "\n",
              "    .colab-df-convert:hover {\n",
              "      background-color: #E2EBFA;\n",
              "      box-shadow: 0px 1px 2px rgba(60, 64, 67, 0.3), 0px 1px 3px 1px rgba(60, 64, 67, 0.15);\n",
              "      fill: #174EA6;\n",
              "    }\n",
              "\n",
              "    [theme=dark] .colab-df-convert {\n",
              "      background-color: #3B4455;\n",
              "      fill: #D2E3FC;\n",
              "    }\n",
              "\n",
              "    [theme=dark] .colab-df-convert:hover {\n",
              "      background-color: #434B5C;\n",
              "      box-shadow: 0px 1px 3px 1px rgba(0, 0, 0, 0.15);\n",
              "      filter: drop-shadow(0px 1px 2px rgba(0, 0, 0, 0.3));\n",
              "      fill: #FFFFFF;\n",
              "    }\n",
              "  </style>\n",
              "\n",
              "      <script>\n",
              "        const buttonEl =\n",
              "          document.querySelector('#df-8b526f47-b577-4318-896e-c7ff7a98795b button.colab-df-convert');\n",
              "        buttonEl.style.display =\n",
              "          google.colab.kernel.accessAllowed ? 'block' : 'none';\n",
              "\n",
              "        async function convertToInteractive(key) {\n",
              "          const element = document.querySelector('#df-8b526f47-b577-4318-896e-c7ff7a98795b');\n",
              "          const dataTable =\n",
              "            await google.colab.kernel.invokeFunction('convertToInteractive',\n",
              "                                                     [key], {});\n",
              "          if (!dataTable) return;\n",
              "\n",
              "          const docLinkHtml = 'Like what you see? Visit the ' +\n",
              "            '<a target=\"_blank\" href=https://colab.research.google.com/notebooks/data_table.ipynb>data table notebook</a>'\n",
              "            + ' to learn more about interactive tables.';\n",
              "          element.innerHTML = '';\n",
              "          dataTable['output_type'] = 'display_data';\n",
              "          await google.colab.output.renderOutput(dataTable, element);\n",
              "          const docLink = document.createElement('div');\n",
              "          docLink.innerHTML = docLinkHtml;\n",
              "          element.appendChild(docLink);\n",
              "        }\n",
              "      </script>\n",
              "    </div>\n",
              "  </div>\n",
              "  "
            ]
          },
          "metadata": {},
          "execution_count": 19
        }
      ]
    },
    {
      "cell_type": "code",
      "source": [
        "dummy_rating.head(5)"
      ],
      "metadata": {
        "colab": {
          "base_uri": "https://localhost:8080/",
          "height": 206
        },
        "id": "2QiaL1_lbV6k",
        "outputId": "3f5c46d4-fb46-4d90-ba06-2cf3106c844d"
      },
      "execution_count": 20,
      "outputs": [
        {
          "output_type": "execute_result",
          "data": {
            "text/plain": [
              "   Rating_B  Rating_EQ  Rating_W\n",
              "0         0          0         1\n",
              "1         1          0         0\n",
              "2         0          0         1\n",
              "3         0          0         1\n",
              "4         0          0         1"
            ],
            "text/html": [
              "\n",
              "  <div id=\"df-55595746-621a-4f26-9ecf-38b12a553fc9\">\n",
              "    <div class=\"colab-df-container\">\n",
              "      <div>\n",
              "<style scoped>\n",
              "    .dataframe tbody tr th:only-of-type {\n",
              "        vertical-align: middle;\n",
              "    }\n",
              "\n",
              "    .dataframe tbody tr th {\n",
              "        vertical-align: top;\n",
              "    }\n",
              "\n",
              "    .dataframe thead th {\n",
              "        text-align: right;\n",
              "    }\n",
              "</style>\n",
              "<table border=\"1\" class=\"dataframe\">\n",
              "  <thead>\n",
              "    <tr style=\"text-align: right;\">\n",
              "      <th></th>\n",
              "      <th>Rating_B</th>\n",
              "      <th>Rating_EQ</th>\n",
              "      <th>Rating_W</th>\n",
              "    </tr>\n",
              "  </thead>\n",
              "  <tbody>\n",
              "    <tr>\n",
              "      <th>0</th>\n",
              "      <td>0</td>\n",
              "      <td>0</td>\n",
              "      <td>1</td>\n",
              "    </tr>\n",
              "    <tr>\n",
              "      <th>1</th>\n",
              "      <td>1</td>\n",
              "      <td>0</td>\n",
              "      <td>0</td>\n",
              "    </tr>\n",
              "    <tr>\n",
              "      <th>2</th>\n",
              "      <td>0</td>\n",
              "      <td>0</td>\n",
              "      <td>1</td>\n",
              "    </tr>\n",
              "    <tr>\n",
              "      <th>3</th>\n",
              "      <td>0</td>\n",
              "      <td>0</td>\n",
              "      <td>1</td>\n",
              "    </tr>\n",
              "    <tr>\n",
              "      <th>4</th>\n",
              "      <td>0</td>\n",
              "      <td>0</td>\n",
              "      <td>1</td>\n",
              "    </tr>\n",
              "  </tbody>\n",
              "</table>\n",
              "</div>\n",
              "      <button class=\"colab-df-convert\" onclick=\"convertToInteractive('df-55595746-621a-4f26-9ecf-38b12a553fc9')\"\n",
              "              title=\"Convert this dataframe to an interactive table.\"\n",
              "              style=\"display:none;\">\n",
              "        \n",
              "  <svg xmlns=\"http://www.w3.org/2000/svg\" height=\"24px\"viewBox=\"0 0 24 24\"\n",
              "       width=\"24px\">\n",
              "    <path d=\"M0 0h24v24H0V0z\" fill=\"none\"/>\n",
              "    <path d=\"M18.56 5.44l.94 2.06.94-2.06 2.06-.94-2.06-.94-.94-2.06-.94 2.06-2.06.94zm-11 1L8.5 8.5l.94-2.06 2.06-.94-2.06-.94L8.5 2.5l-.94 2.06-2.06.94zm10 10l.94 2.06.94-2.06 2.06-.94-2.06-.94-.94-2.06-.94 2.06-2.06.94z\"/><path d=\"M17.41 7.96l-1.37-1.37c-.4-.4-.92-.59-1.43-.59-.52 0-1.04.2-1.43.59L10.3 9.45l-7.72 7.72c-.78.78-.78 2.05 0 2.83L4 21.41c.39.39.9.59 1.41.59.51 0 1.02-.2 1.41-.59l7.78-7.78 2.81-2.81c.8-.78.8-2.07 0-2.86zM5.41 20L4 18.59l7.72-7.72 1.47 1.35L5.41 20z\"/>\n",
              "  </svg>\n",
              "      </button>\n",
              "      \n",
              "  <style>\n",
              "    .colab-df-container {\n",
              "      display:flex;\n",
              "      flex-wrap:wrap;\n",
              "      gap: 12px;\n",
              "    }\n",
              "\n",
              "    .colab-df-convert {\n",
              "      background-color: #E8F0FE;\n",
              "      border: none;\n",
              "      border-radius: 50%;\n",
              "      cursor: pointer;\n",
              "      display: none;\n",
              "      fill: #1967D2;\n",
              "      height: 32px;\n",
              "      padding: 0 0 0 0;\n",
              "      width: 32px;\n",
              "    }\n",
              "\n",
              "    .colab-df-convert:hover {\n",
              "      background-color: #E2EBFA;\n",
              "      box-shadow: 0px 1px 2px rgba(60, 64, 67, 0.3), 0px 1px 3px 1px rgba(60, 64, 67, 0.15);\n",
              "      fill: #174EA6;\n",
              "    }\n",
              "\n",
              "    [theme=dark] .colab-df-convert {\n",
              "      background-color: #3B4455;\n",
              "      fill: #D2E3FC;\n",
              "    }\n",
              "\n",
              "    [theme=dark] .colab-df-convert:hover {\n",
              "      background-color: #434B5C;\n",
              "      box-shadow: 0px 1px 3px 1px rgba(0, 0, 0, 0.15);\n",
              "      filter: drop-shadow(0px 1px 2px rgba(0, 0, 0, 0.3));\n",
              "      fill: #FFFFFF;\n",
              "    }\n",
              "  </style>\n",
              "\n",
              "      <script>\n",
              "        const buttonEl =\n",
              "          document.querySelector('#df-55595746-621a-4f26-9ecf-38b12a553fc9 button.colab-df-convert');\n",
              "        buttonEl.style.display =\n",
              "          google.colab.kernel.accessAllowed ? 'block' : 'none';\n",
              "\n",
              "        async function convertToInteractive(key) {\n",
              "          const element = document.querySelector('#df-55595746-621a-4f26-9ecf-38b12a553fc9');\n",
              "          const dataTable =\n",
              "            await google.colab.kernel.invokeFunction('convertToInteractive',\n",
              "                                                     [key], {});\n",
              "          if (!dataTable) return;\n",
              "\n",
              "          const docLinkHtml = 'Like what you see? Visit the ' +\n",
              "            '<a target=\"_blank\" href=https://colab.research.google.com/notebooks/data_table.ipynb>data table notebook</a>'\n",
              "            + ' to learn more about interactive tables.';\n",
              "          element.innerHTML = '';\n",
              "          dataTable['output_type'] = 'display_data';\n",
              "          await google.colab.output.renderOutput(dataTable, element);\n",
              "          const docLink = document.createElement('div');\n",
              "          docLink.innerHTML = docLinkHtml;\n",
              "          element.appendChild(docLink);\n",
              "        }\n",
              "      </script>\n",
              "    </div>\n",
              "  </div>\n",
              "  "
            ]
          },
          "metadata": {},
          "execution_count": 20
        }
      ]
    },
    {
      "cell_type": "code",
      "source": [
        "# Joining the encoded columns to the main data frame\n",
        "\n",
        "df_fnl = df_fnl.join(dummy_time)\n",
        "df_fnl = df_fnl.join(dummy_term)\n",
        "df_fnl = df_fnl.join(dummy_rating)"
      ],
      "metadata": {
        "id": "oBr10pTZ8csL"
      },
      "execution_count": 21,
      "outputs": []
    },
    {
      "cell_type": "code",
      "source": [
        "# Calculate Difference in Rating Attribute\n",
        "\n",
        "df_fnl['Diff_Rating'] = abs(df_fnl['WhiteElo'] - df_fnl['BlackElo'])"
      ],
      "metadata": {
        "id": "GXqdLbhX0ru4"
      },
      "execution_count": 22,
      "outputs": []
    },
    {
      "cell_type": "code",
      "source": [
        "# Compute 1 0r 0 based on whethter a High_Rated_Player wins ; 1 - When the Player who has the highest rating among the 2, also wins, 0 otherwise\n",
        "\n",
        "df_fnl['Higher_Rated_Plyr_Win'] = case_when((df_fnl['Rating'] == 'W') & (df_fnl['Winner'] == 'White'), 1 ,\n",
        "                                    (df_fnl['Rating'] == 'B') & (df_fnl['Winner'] == 'Black'), 1 ,\n",
        "                                    (df_fnl['Rating'] == 'W') & (df_fnl['Winner'] == 'Black'), 0 ,\n",
        "                                    (df_fnl['Rating'] == 'B') & (df_fnl['Winner'] == 'White'), 0 ,\n",
        "                                    (df_fnl['Rating'] == 'EQ') & (df_fnl['Winner'] == 'White'), 2 ,\n",
        "                                    (df_fnl['Rating'] == 'EQ') & (df_fnl['Winner'] == 'Black'), 3 \n",
        "                                   )"
      ],
      "metadata": {
        "id": "pzj5a1oG1pML"
      },
      "execution_count": 23,
      "outputs": []
    },
    {
      "cell_type": "code",
      "source": [
        "df_fnl['Higher_Rated_Plyr_Win'].value_counts()"
      ],
      "metadata": {
        "colab": {
          "base_uri": "https://localhost:8080/"
        },
        "id": "gBVWnSXPE9UP",
        "outputId": "eb455839-9895-4087-feff-ba729dce5ea0"
      },
      "execution_count": 24,
      "outputs": [
        {
          "output_type": "execute_result",
          "data": {
            "text/plain": [
              "1    2155105\n",
              "0    1104549\n",
              "2       5188\n",
              "3       4480\n",
              "Name: Higher_Rated_Plyr_Win, dtype: int64"
            ]
          },
          "metadata": {},
          "execution_count": 24
        }
      ]
    },
    {
      "cell_type": "code",
      "source": [
        "df_fnl.dtypes"
      ],
      "metadata": {
        "colab": {
          "base_uri": "https://localhost:8080/"
        },
        "id": "LsBPjpbeB6QK",
        "outputId": "6465d004-bde4-414d-cdb1-0e4f0116128b"
      },
      "execution_count": 25,
      "outputs": [
        {
          "output_type": "execute_result",
          "data": {
            "text/plain": [
              "Unnamed: 0                int64\n",
              "WhiteElo                  int64\n",
              "BlackElo                  int64\n",
              "Winner                   object\n",
              "Termination              object\n",
              "Day                       int64\n",
              "Month                     int64\n",
              "Year                      int64\n",
              "InitialTime               int64\n",
              "Increment                 int64\n",
              "TimeControl              object\n",
              "Number_of_Moves           int64\n",
              "Win_Color                object\n",
              "Rating                   object\n",
              "TimeControl_Blitz         uint8\n",
              "TimeControl_Bullet        uint8\n",
              "TimeControl_Classical     uint8\n",
              "TimeControl_Rapid         uint8\n",
              "Term_Normal               uint8\n",
              "Term_Rules infraction     uint8\n",
              "Term_Time forfeit         uint8\n",
              "Rating_B                  uint8\n",
              "Rating_EQ                 uint8\n",
              "Rating_W                  uint8\n",
              "Diff_Rating               int64\n",
              "Higher_Rated_Plyr_Win    object\n",
              "dtype: object"
            ]
          },
          "metadata": {},
          "execution_count": 25
        }
      ]
    },
    {
      "cell_type": "code",
      "source": [
        "df_fnl.head(5)"
      ],
      "metadata": {
        "colab": {
          "base_uri": "https://localhost:8080/",
          "height": 317
        },
        "id": "atDF99Zd8r1r",
        "outputId": "b87bf57d-aa8b-4220-93d6-5d5f9e0540b1"
      },
      "execution_count": 26,
      "outputs": [
        {
          "output_type": "execute_result",
          "data": {
            "text/plain": [
              "   Unnamed: 0  WhiteElo  BlackElo Winner   Termination  Day  Month  Year  \\\n",
              "0         134      1516      1480  White  Time forfeit    1      1  2013   \n",
              "1         135      1231      1814  Black        Normal    1      1  2013   \n",
              "2         136      1612      1555  Black        Normal    1      1  2013   \n",
              "3         137      1879      1237  White  Time forfeit    1      1  2013   \n",
              "4         138      1815      1222  White  Time forfeit    1      1  2013   \n",
              "\n",
              "   InitialTime  Increment  ... TimeControl_Classical  TimeControl_Rapid  \\\n",
              "0           60          0  ...                     0                  0   \n",
              "1           60          0  ...                     0                  0   \n",
              "2           60          1  ...                     0                  0   \n",
              "3           60          0  ...                     0                  0   \n",
              "4           60          0  ...                     0                  0   \n",
              "\n",
              "  Term_Normal Term_Rules infraction  Term_Time forfeit  Rating_B  Rating_EQ  \\\n",
              "0           0                     0                  1         0          0   \n",
              "1           1                     0                  0         1          0   \n",
              "2           1                     0                  0         0          0   \n",
              "3           0                     0                  1         0          0   \n",
              "4           0                     0                  1         0          0   \n",
              "\n",
              "   Rating_W  Diff_Rating  Higher_Rated_Plyr_Win  \n",
              "0         1           36                      1  \n",
              "1         0          583                      1  \n",
              "2         1           57                      0  \n",
              "3         1          642                      1  \n",
              "4         1          593                      1  \n",
              "\n",
              "[5 rows x 26 columns]"
            ],
            "text/html": [
              "\n",
              "  <div id=\"df-b82bf949-6842-4f95-a778-20d618ff946f\">\n",
              "    <div class=\"colab-df-container\">\n",
              "      <div>\n",
              "<style scoped>\n",
              "    .dataframe tbody tr th:only-of-type {\n",
              "        vertical-align: middle;\n",
              "    }\n",
              "\n",
              "    .dataframe tbody tr th {\n",
              "        vertical-align: top;\n",
              "    }\n",
              "\n",
              "    .dataframe thead th {\n",
              "        text-align: right;\n",
              "    }\n",
              "</style>\n",
              "<table border=\"1\" class=\"dataframe\">\n",
              "  <thead>\n",
              "    <tr style=\"text-align: right;\">\n",
              "      <th></th>\n",
              "      <th>Unnamed: 0</th>\n",
              "      <th>WhiteElo</th>\n",
              "      <th>BlackElo</th>\n",
              "      <th>Winner</th>\n",
              "      <th>Termination</th>\n",
              "      <th>Day</th>\n",
              "      <th>Month</th>\n",
              "      <th>Year</th>\n",
              "      <th>InitialTime</th>\n",
              "      <th>Increment</th>\n",
              "      <th>...</th>\n",
              "      <th>TimeControl_Classical</th>\n",
              "      <th>TimeControl_Rapid</th>\n",
              "      <th>Term_Normal</th>\n",
              "      <th>Term_Rules infraction</th>\n",
              "      <th>Term_Time forfeit</th>\n",
              "      <th>Rating_B</th>\n",
              "      <th>Rating_EQ</th>\n",
              "      <th>Rating_W</th>\n",
              "      <th>Diff_Rating</th>\n",
              "      <th>Higher_Rated_Plyr_Win</th>\n",
              "    </tr>\n",
              "  </thead>\n",
              "  <tbody>\n",
              "    <tr>\n",
              "      <th>0</th>\n",
              "      <td>134</td>\n",
              "      <td>1516</td>\n",
              "      <td>1480</td>\n",
              "      <td>White</td>\n",
              "      <td>Time forfeit</td>\n",
              "      <td>1</td>\n",
              "      <td>1</td>\n",
              "      <td>2013</td>\n",
              "      <td>60</td>\n",
              "      <td>0</td>\n",
              "      <td>...</td>\n",
              "      <td>0</td>\n",
              "      <td>0</td>\n",
              "      <td>0</td>\n",
              "      <td>0</td>\n",
              "      <td>1</td>\n",
              "      <td>0</td>\n",
              "      <td>0</td>\n",
              "      <td>1</td>\n",
              "      <td>36</td>\n",
              "      <td>1</td>\n",
              "    </tr>\n",
              "    <tr>\n",
              "      <th>1</th>\n",
              "      <td>135</td>\n",
              "      <td>1231</td>\n",
              "      <td>1814</td>\n",
              "      <td>Black</td>\n",
              "      <td>Normal</td>\n",
              "      <td>1</td>\n",
              "      <td>1</td>\n",
              "      <td>2013</td>\n",
              "      <td>60</td>\n",
              "      <td>0</td>\n",
              "      <td>...</td>\n",
              "      <td>0</td>\n",
              "      <td>0</td>\n",
              "      <td>1</td>\n",
              "      <td>0</td>\n",
              "      <td>0</td>\n",
              "      <td>1</td>\n",
              "      <td>0</td>\n",
              "      <td>0</td>\n",
              "      <td>583</td>\n",
              "      <td>1</td>\n",
              "    </tr>\n",
              "    <tr>\n",
              "      <th>2</th>\n",
              "      <td>136</td>\n",
              "      <td>1612</td>\n",
              "      <td>1555</td>\n",
              "      <td>Black</td>\n",
              "      <td>Normal</td>\n",
              "      <td>1</td>\n",
              "      <td>1</td>\n",
              "      <td>2013</td>\n",
              "      <td>60</td>\n",
              "      <td>1</td>\n",
              "      <td>...</td>\n",
              "      <td>0</td>\n",
              "      <td>0</td>\n",
              "      <td>1</td>\n",
              "      <td>0</td>\n",
              "      <td>0</td>\n",
              "      <td>0</td>\n",
              "      <td>0</td>\n",
              "      <td>1</td>\n",
              "      <td>57</td>\n",
              "      <td>0</td>\n",
              "    </tr>\n",
              "    <tr>\n",
              "      <th>3</th>\n",
              "      <td>137</td>\n",
              "      <td>1879</td>\n",
              "      <td>1237</td>\n",
              "      <td>White</td>\n",
              "      <td>Time forfeit</td>\n",
              "      <td>1</td>\n",
              "      <td>1</td>\n",
              "      <td>2013</td>\n",
              "      <td>60</td>\n",
              "      <td>0</td>\n",
              "      <td>...</td>\n",
              "      <td>0</td>\n",
              "      <td>0</td>\n",
              "      <td>0</td>\n",
              "      <td>0</td>\n",
              "      <td>1</td>\n",
              "      <td>0</td>\n",
              "      <td>0</td>\n",
              "      <td>1</td>\n",
              "      <td>642</td>\n",
              "      <td>1</td>\n",
              "    </tr>\n",
              "    <tr>\n",
              "      <th>4</th>\n",
              "      <td>138</td>\n",
              "      <td>1815</td>\n",
              "      <td>1222</td>\n",
              "      <td>White</td>\n",
              "      <td>Time forfeit</td>\n",
              "      <td>1</td>\n",
              "      <td>1</td>\n",
              "      <td>2013</td>\n",
              "      <td>60</td>\n",
              "      <td>0</td>\n",
              "      <td>...</td>\n",
              "      <td>0</td>\n",
              "      <td>0</td>\n",
              "      <td>0</td>\n",
              "      <td>0</td>\n",
              "      <td>1</td>\n",
              "      <td>0</td>\n",
              "      <td>0</td>\n",
              "      <td>1</td>\n",
              "      <td>593</td>\n",
              "      <td>1</td>\n",
              "    </tr>\n",
              "  </tbody>\n",
              "</table>\n",
              "<p>5 rows × 26 columns</p>\n",
              "</div>\n",
              "      <button class=\"colab-df-convert\" onclick=\"convertToInteractive('df-b82bf949-6842-4f95-a778-20d618ff946f')\"\n",
              "              title=\"Convert this dataframe to an interactive table.\"\n",
              "              style=\"display:none;\">\n",
              "        \n",
              "  <svg xmlns=\"http://www.w3.org/2000/svg\" height=\"24px\"viewBox=\"0 0 24 24\"\n",
              "       width=\"24px\">\n",
              "    <path d=\"M0 0h24v24H0V0z\" fill=\"none\"/>\n",
              "    <path d=\"M18.56 5.44l.94 2.06.94-2.06 2.06-.94-2.06-.94-.94-2.06-.94 2.06-2.06.94zm-11 1L8.5 8.5l.94-2.06 2.06-.94-2.06-.94L8.5 2.5l-.94 2.06-2.06.94zm10 10l.94 2.06.94-2.06 2.06-.94-2.06-.94-.94-2.06-.94 2.06-2.06.94z\"/><path d=\"M17.41 7.96l-1.37-1.37c-.4-.4-.92-.59-1.43-.59-.52 0-1.04.2-1.43.59L10.3 9.45l-7.72 7.72c-.78.78-.78 2.05 0 2.83L4 21.41c.39.39.9.59 1.41.59.51 0 1.02-.2 1.41-.59l7.78-7.78 2.81-2.81c.8-.78.8-2.07 0-2.86zM5.41 20L4 18.59l7.72-7.72 1.47 1.35L5.41 20z\"/>\n",
              "  </svg>\n",
              "      </button>\n",
              "      \n",
              "  <style>\n",
              "    .colab-df-container {\n",
              "      display:flex;\n",
              "      flex-wrap:wrap;\n",
              "      gap: 12px;\n",
              "    }\n",
              "\n",
              "    .colab-df-convert {\n",
              "      background-color: #E8F0FE;\n",
              "      border: none;\n",
              "      border-radius: 50%;\n",
              "      cursor: pointer;\n",
              "      display: none;\n",
              "      fill: #1967D2;\n",
              "      height: 32px;\n",
              "      padding: 0 0 0 0;\n",
              "      width: 32px;\n",
              "    }\n",
              "\n",
              "    .colab-df-convert:hover {\n",
              "      background-color: #E2EBFA;\n",
              "      box-shadow: 0px 1px 2px rgba(60, 64, 67, 0.3), 0px 1px 3px 1px rgba(60, 64, 67, 0.15);\n",
              "      fill: #174EA6;\n",
              "    }\n",
              "\n",
              "    [theme=dark] .colab-df-convert {\n",
              "      background-color: #3B4455;\n",
              "      fill: #D2E3FC;\n",
              "    }\n",
              "\n",
              "    [theme=dark] .colab-df-convert:hover {\n",
              "      background-color: #434B5C;\n",
              "      box-shadow: 0px 1px 3px 1px rgba(0, 0, 0, 0.15);\n",
              "      filter: drop-shadow(0px 1px 2px rgba(0, 0, 0, 0.3));\n",
              "      fill: #FFFFFF;\n",
              "    }\n",
              "  </style>\n",
              "\n",
              "      <script>\n",
              "        const buttonEl =\n",
              "          document.querySelector('#df-b82bf949-6842-4f95-a778-20d618ff946f button.colab-df-convert');\n",
              "        buttonEl.style.display =\n",
              "          google.colab.kernel.accessAllowed ? 'block' : 'none';\n",
              "\n",
              "        async function convertToInteractive(key) {\n",
              "          const element = document.querySelector('#df-b82bf949-6842-4f95-a778-20d618ff946f');\n",
              "          const dataTable =\n",
              "            await google.colab.kernel.invokeFunction('convertToInteractive',\n",
              "                                                     [key], {});\n",
              "          if (!dataTable) return;\n",
              "\n",
              "          const docLinkHtml = 'Like what you see? Visit the ' +\n",
              "            '<a target=\"_blank\" href=https://colab.research.google.com/notebooks/data_table.ipynb>data table notebook</a>'\n",
              "            + ' to learn more about interactive tables.';\n",
              "          element.innerHTML = '';\n",
              "          dataTable['output_type'] = 'display_data';\n",
              "          await google.colab.output.renderOutput(dataTable, element);\n",
              "          const docLink = document.createElement('div');\n",
              "          docLink.innerHTML = docLinkHtml;\n",
              "          element.appendChild(docLink);\n",
              "        }\n",
              "      </script>\n",
              "    </div>\n",
              "  </div>\n",
              "  "
            ]
          },
          "metadata": {},
          "execution_count": 26
        }
      ]
    },
    {
      "cell_type": "code",
      "source": [
        "# Plot the White player's level of proficiency (Elo) Attribute\n",
        "plt.hist(df_fnl[\"WhiteElo\"], bins=100)\n",
        "plt.xlabel(\"White player's level of proficiency (Elo)\")\n",
        "plt.ylabel(\"Frequency\")\n",
        "plt.show()"
      ],
      "metadata": {
        "colab": {
          "base_uri": "https://localhost:8080/",
          "height": 280
        },
        "id": "Hi0O2i3SwZjo",
        "outputId": "ccfd2c36-ac8f-450c-fa03-2bd6e90801c0"
      },
      "execution_count": 27,
      "outputs": [
        {
          "output_type": "display_data",
          "data": {
            "text/plain": [
              "<Figure size 432x288 with 1 Axes>"
            ],
            "image/png": "[encoded data removed]"
          },
          "metadata": {}
        }
      ]
    },
    {
      "cell_type": "code",
      "source": [
        "# Plot the Black player's level of proficiency (Elo) Attribute\n",
        "plt.hist(df_fnl[\"BlackElo\"], bins=100)\n",
        "plt.xlabel(\"Black player's level of proficiency (Elo)\")\n",
        "plt.ylabel(\"Frequency\")\n",
        "plt.show()"
      ],
      "metadata": {
        "colab": {
          "base_uri": "https://localhost:8080/",
          "height": 280
        },
        "id": "gwz1be9uxLDj",
        "outputId": "50f0d837-72a1-48e1-9465-34247c00cff3"
      },
      "execution_count": 28,
      "outputs": [
        {
          "output_type": "display_data",
          "data": {
            "text/plain": [
              "<Figure size 432x288 with 1 Axes>"
            ],
            "image/png": "[encoded data removed]"
          },
          "metadata": {}
        }
      ]
    },
    {
      "cell_type": "code",
      "source": [
        "# Plot the Number of Moves Attribute\n",
        "plt.hist(df_fnl[\"Number_of_Moves\"], bins=50)\n",
        "plt.xlabel(\"Number of moves in the game\")\n",
        "plt.ylabel(\"Frequency\")\n",
        "plt.show()"
      ],
      "metadata": {
        "colab": {
          "base_uri": "https://localhost:8080/",
          "height": 281
        },
        "id": "jrGX6aQWxT3f",
        "outputId": "dae7be9d-88cb-4261-ca69-4b4e6bfda618"
      },
      "execution_count": 29,
      "outputs": [
        {
          "output_type": "display_data",
          "data": {
            "text/plain": [
              "<Figure size 432x288 with 1 Axes>"
            ],
            "image/png": "[encoded data removed]"
          },
          "metadata": {}
        }
      ]
    },
    {
      "cell_type": "markdown",
      "source": [
        "Based on the above table on InitialTime, a time of 0 minutes doesn't make a lot of sense. Therefore dropping those records to get a more cleaner dataset for the prediction model"
      ],
      "metadata": {
        "id": "zTrOXWojM0SO"
      }
    },
    {
      "cell_type": "code",
      "source": [
        "# Plot the TimeControl Attribute\n",
        "\n",
        "sns.countplot(x='TimeControl', data=df_fnl, palette='hls')\n",
        "plt.show()"
      ],
      "metadata": {
        "id": "PZGEZWUf0Dhr",
        "colab": {
          "base_uri": "https://localhost:8080/",
          "height": 290
        },
        "outputId": "bf28d34a-62df-4871-e6bd-e56d4f55330c"
      },
      "execution_count": 30,
      "outputs": [
        {
          "output_type": "display_data",
          "data": {
            "text/plain": [
              "<Figure size 432x288 with 1 Axes>"
            ],
            "image/png": "[encoded data removed]"
          },
          "metadata": {}
        }
      ]
    },
    {
      "cell_type": "code",
      "source": [
        "# Plot the Termination Attribute\n",
        "\n",
        "sns.countplot(x='Termination', data=df_fnl, palette='hls')\n",
        "plt.show()"
      ],
      "metadata": {
        "id": "J9LlaGqT0Dnz",
        "colab": {
          "base_uri": "https://localhost:8080/",
          "height": 290
        },
        "outputId": "becbd171-cf4d-4a39-87f6-45283fede837"
      },
      "execution_count": 31,
      "outputs": [
        {
          "output_type": "display_data",
          "data": {
            "text/plain": [
              "<Figure size 432x288 with 1 Axes>"
            ],
            "image/png": "[encoded data removed]"
          },
          "metadata": {}
        }
      ]
    },
    {
      "cell_type": "code",
      "source": [
        "# Plot the Winner Attribute\n",
        "\n",
        "sns.countplot(x='Winner', data=df_fnl, palette='hls')\n",
        "plt.show()\n",
        "plt.savefig('Count Plot')"
      ],
      "metadata": {
        "colab": {
          "base_uri": "https://localhost:8080/",
          "height": 307
        },
        "id": "YyYI-P0x_EC9",
        "outputId": "9d436998-a29e-43d5-a9a4-fba4f696f7b7"
      },
      "execution_count": 32,
      "outputs": [
        {
          "output_type": "display_data",
          "data": {
            "text/plain": [
              "<Figure size 432x288 with 1 Axes>"
            ],
            "image/png": "[encoded data removed]"
          },
          "metadata": {}
        },
        {
          "output_type": "display_data",
          "data": {
            "text/plain": [
              "<Figure size 432x288 with 0 Axes>"
            ]
          },
          "metadata": {}
        }
      ]
    },
    {
      "cell_type": "code",
      "source": [
        "df_fnl.head(5)"
      ],
      "metadata": {
        "colab": {
          "base_uri": "https://localhost:8080/",
          "height": 317
        },
        "id": "QyMxlqZw9G3m",
        "outputId": "64a358fd-618b-4152-bfff-f631ce3563dd"
      },
      "execution_count": 33,
      "outputs": [
        {
          "output_type": "execute_result",
          "data": {
            "text/plain": [
              "   Unnamed: 0  WhiteElo  BlackElo Winner   Termination  Day  Month  Year  \\\n",
              "0         134      1516      1480  White  Time forfeit    1      1  2013   \n",
              "1         135      1231      1814  Black        Normal    1      1  2013   \n",
              "2         136      1612      1555  Black        Normal    1      1  2013   \n",
              "3         137      1879      1237  White  Time forfeit    1      1  2013   \n",
              "4         138      1815      1222  White  Time forfeit    1      1  2013   \n",
              "\n",
              "   InitialTime  Increment  ... TimeControl_Classical  TimeControl_Rapid  \\\n",
              "0           60          0  ...                     0                  0   \n",
              "1           60          0  ...                     0                  0   \n",
              "2           60          1  ...                     0                  0   \n",
              "3           60          0  ...                     0                  0   \n",
              "4           60          0  ...                     0                  0   \n",
              "\n",
              "  Term_Normal Term_Rules infraction  Term_Time forfeit  Rating_B  Rating_EQ  \\\n",
              "0           0                     0                  1         0          0   \n",
              "1           1                     0                  0         1          0   \n",
              "2           1                     0                  0         0          0   \n",
              "3           0                     0                  1         0          0   \n",
              "4           0                     0                  1         0          0   \n",
              "\n",
              "   Rating_W  Diff_Rating  Higher_Rated_Plyr_Win  \n",
              "0         1           36                      1  \n",
              "1         0          583                      1  \n",
              "2         1           57                      0  \n",
              "3         1          642                      1  \n",
              "4         1          593                      1  \n",
              "\n",
              "[5 rows x 26 columns]"
            ],
            "text/html": [
              "\n",
              "  <div id=\"df-2e660381-8af1-412e-aea4-f2e76266de6f\">\n",
              "    <div class=\"colab-df-container\">\n",
              "      <div>\n",
              "<style scoped>\n",
              "    .dataframe tbody tr th:only-of-type {\n",
              "        vertical-align: middle;\n",
              "    }\n",
              "\n",
              "    .dataframe tbody tr th {\n",
              "        vertical-align: top;\n",
              "    }\n",
              "\n",
              "    .dataframe thead th {\n",
              "        text-align: right;\n",
              "    }\n",
              "</style>\n",
              "<table border=\"1\" class=\"dataframe\">\n",
              "  <thead>\n",
              "    <tr style=\"text-align: right;\">\n",
              "      <th></th>\n",
              "      <th>Unnamed: 0</th>\n",
              "      <th>WhiteElo</th>\n",
              "      <th>BlackElo</th>\n",
              "      <th>Winner</th>\n",
              "      <th>Termination</th>\n",
              "      <th>Day</th>\n",
              "      <th>Month</th>\n",
              "      <th>Year</th>\n",
              "      <th>InitialTime</th>\n",
              "      <th>Increment</th>\n",
              "      <th>...</th>\n",
              "      <th>TimeControl_Classical</th>\n",
              "      <th>TimeControl_Rapid</th>\n",
              "      <th>Term_Normal</th>\n",
              "      <th>Term_Rules infraction</th>\n",
              "      <th>Term_Time forfeit</th>\n",
              "      <th>Rating_B</th>\n",
              "      <th>Rating_EQ</th>\n",
              "      <th>Rating_W</th>\n",
              "      <th>Diff_Rating</th>\n",
              "      <th>Higher_Rated_Plyr_Win</th>\n",
              "    </tr>\n",
              "  </thead>\n",
              "  <tbody>\n",
              "    <tr>\n",
              "      <th>0</th>\n",
              "      <td>134</td>\n",
              "      <td>1516</td>\n",
              "      <td>1480</td>\n",
              "      <td>White</td>\n",
              "      <td>Time forfeit</td>\n",
              "      <td>1</td>\n",
              "      <td>1</td>\n",
              "      <td>2013</td>\n",
              "      <td>60</td>\n",
              "      <td>0</td>\n",
              "      <td>...</td>\n",
              "      <td>0</td>\n",
              "      <td>0</td>\n",
              "      <td>0</td>\n",
              "      <td>0</td>\n",
              "      <td>1</td>\n",
              "      <td>0</td>\n",
              "      <td>0</td>\n",
              "      <td>1</td>\n",
              "      <td>36</td>\n",
              "      <td>1</td>\n",
              "    </tr>\n",
              "    <tr>\n",
              "      <th>1</th>\n",
              "      <td>135</td>\n",
              "      <td>1231</td>\n",
              "      <td>1814</td>\n",
              "      <td>Black</td>\n",
              "      <td>Normal</td>\n",
              "      <td>1</td>\n",
              "      <td>1</td>\n",
              "      <td>2013</td>\n",
              "      <td>60</td>\n",
              "      <td>0</td>\n",
              "      <td>...</td>\n",
              "      <td>0</td>\n",
              "      <td>0</td>\n",
              "      <td>1</td>\n",
              "      <td>0</td>\n",
              "      <td>0</td>\n",
              "      <td>1</td>\n",
              "      <td>0</td>\n",
              "      <td>0</td>\n",
              "      <td>583</td>\n",
              "      <td>1</td>\n",
              "    </tr>\n",
              "    <tr>\n",
              "      <th>2</th>\n",
              "      <td>136</td>\n",
              "      <td>1612</td>\n",
              "      <td>1555</td>\n",
              "      <td>Black</td>\n",
              "      <td>Normal</td>\n",
              "      <td>1</td>\n",
              "      <td>1</td>\n",
              "      <td>2013</td>\n",
              "      <td>60</td>\n",
              "      <td>1</td>\n",
              "      <td>...</td>\n",
              "      <td>0</td>\n",
              "      <td>0</td>\n",
              "      <td>1</td>\n",
              "      <td>0</td>\n",
              "      <td>0</td>\n",
              "      <td>0</td>\n",
              "      <td>0</td>\n",
              "      <td>1</td>\n",
              "      <td>57</td>\n",
              "      <td>0</td>\n",
              "    </tr>\n",
              "    <tr>\n",
              "      <th>3</th>\n",
              "      <td>137</td>\n",
              "      <td>1879</td>\n",
              "      <td>1237</td>\n",
              "      <td>White</td>\n",
              "      <td>Time forfeit</td>\n",
              "      <td>1</td>\n",
              "      <td>1</td>\n",
              "      <td>2013</td>\n",
              "      <td>60</td>\n",
              "      <td>0</td>\n",
              "      <td>...</td>\n",
              "      <td>0</td>\n",
              "      <td>0</td>\n",
              "      <td>0</td>\n",
              "      <td>0</td>\n",
              "      <td>1</td>\n",
              "      <td>0</td>\n",
              "      <td>0</td>\n",
              "      <td>1</td>\n",
              "      <td>642</td>\n",
              "      <td>1</td>\n",
              "    </tr>\n",
              "    <tr>\n",
              "      <th>4</th>\n",
              "      <td>138</td>\n",
              "      <td>1815</td>\n",
              "      <td>1222</td>\n",
              "      <td>White</td>\n",
              "      <td>Time forfeit</td>\n",
              "      <td>1</td>\n",
              "      <td>1</td>\n",
              "      <td>2013</td>\n",
              "      <td>60</td>\n",
              "      <td>0</td>\n",
              "      <td>...</td>\n",
              "      <td>0</td>\n",
              "      <td>0</td>\n",
              "      <td>0</td>\n",
              "      <td>0</td>\n",
              "      <td>1</td>\n",
              "      <td>0</td>\n",
              "      <td>0</td>\n",
              "      <td>1</td>\n",
              "      <td>593</td>\n",
              "      <td>1</td>\n",
              "    </tr>\n",
              "  </tbody>\n",
              "</table>\n",
              "<p>5 rows × 26 columns</p>\n",
              "</div>\n",
              "      <button class=\"colab-df-convert\" onclick=\"convertToInteractive('df-2e660381-8af1-412e-aea4-f2e76266de6f')\"\n",
              "              title=\"Convert this dataframe to an interactive table.\"\n",
              "              style=\"display:none;\">\n",
              "        \n",
              "  <svg xmlns=\"http://www.w3.org/2000/svg\" height=\"24px\"viewBox=\"0 0 24 24\"\n",
              "       width=\"24px\">\n",
              "    <path d=\"M0 0h24v24H0V0z\" fill=\"none\"/>\n",
              "    <path d=\"M18.56 5.44l.94 2.06.94-2.06 2.06-.94-2.06-.94-.94-2.06-.94 2.06-2.06.94zm-11 1L8.5 8.5l.94-2.06 2.06-.94-2.06-.94L8.5 2.5l-.94 2.06-2.06.94zm10 10l.94 2.06.94-2.06 2.06-.94-2.06-.94-.94-2.06-.94 2.06-2.06.94z\"/><path d=\"M17.41 7.96l-1.37-1.37c-.4-.4-.92-.59-1.43-.59-.52 0-1.04.2-1.43.59L10.3 9.45l-7.72 7.72c-.78.78-.78 2.05 0 2.83L4 21.41c.39.39.9.59 1.41.59.51 0 1.02-.2 1.41-.59l7.78-7.78 2.81-2.81c.8-.78.8-2.07 0-2.86zM5.41 20L4 18.59l7.72-7.72 1.47 1.35L5.41 20z\"/>\n",
              "  </svg>\n",
              "      </button>\n",
              "      \n",
              "  <style>\n",
              "    .colab-df-container {\n",
              "      display:flex;\n",
              "      flex-wrap:wrap;\n",
              "      gap: 12px;\n",
              "    }\n",
              "\n",
              "    .colab-df-convert {\n",
              "      background-color: #E8F0FE;\n",
              "      border: none;\n",
              "      border-radius: 50%;\n",
              "      cursor: pointer;\n",
              "      display: none;\n",
              "      fill: #1967D2;\n",
              "      height: 32px;\n",
              "      padding: 0 0 0 0;\n",
              "      width: 32px;\n",
              "    }\n",
              "\n",
              "    .colab-df-convert:hover {\n",
              "      background-color: #E2EBFA;\n",
              "      box-shadow: 0px 1px 2px rgba(60, 64, 67, 0.3), 0px 1px 3px 1px rgba(60, 64, 67, 0.15);\n",
              "      fill: #174EA6;\n",
              "    }\n",
              "\n",
              "    [theme=dark] .colab-df-convert {\n",
              "      background-color: #3B4455;\n",
              "      fill: #D2E3FC;\n",
              "    }\n",
              "\n",
              "    [theme=dark] .colab-df-convert:hover {\n",
              "      background-color: #434B5C;\n",
              "      box-shadow: 0px 1px 3px 1px rgba(0, 0, 0, 0.15);\n",
              "      filter: drop-shadow(0px 1px 2px rgba(0, 0, 0, 0.3));\n",
              "      fill: #FFFFFF;\n",
              "    }\n",
              "  </style>\n",
              "\n",
              "      <script>\n",
              "        const buttonEl =\n",
              "          document.querySelector('#df-2e660381-8af1-412e-aea4-f2e76266de6f button.colab-df-convert');\n",
              "        buttonEl.style.display =\n",
              "          google.colab.kernel.accessAllowed ? 'block' : 'none';\n",
              "\n",
              "        async function convertToInteractive(key) {\n",
              "          const element = document.querySelector('#df-2e660381-8af1-412e-aea4-f2e76266de6f');\n",
              "          const dataTable =\n",
              "            await google.colab.kernel.invokeFunction('convertToInteractive',\n",
              "                                                     [key], {});\n",
              "          if (!dataTable) return;\n",
              "\n",
              "          const docLinkHtml = 'Like what you see? Visit the ' +\n",
              "            '<a target=\"_blank\" href=https://colab.research.google.com/notebooks/data_table.ipynb>data table notebook</a>'\n",
              "            + ' to learn more about interactive tables.';\n",
              "          element.innerHTML = '';\n",
              "          dataTable['output_type'] = 'display_data';\n",
              "          await google.colab.output.renderOutput(dataTable, element);\n",
              "          const docLink = document.createElement('div');\n",
              "          docLink.innerHTML = docLinkHtml;\n",
              "          element.appendChild(docLink);\n",
              "        }\n",
              "      </script>\n",
              "    </div>\n",
              "  </div>\n",
              "  "
            ]
          },
          "metadata": {},
          "execution_count": 33
        }
      ]
    },
    {
      "cell_type": "code",
      "source": [
        "df_fnl['Winner'].value_counts()"
      ],
      "metadata": {
        "colab": {
          "base_uri": "https://localhost:8080/"
        },
        "id": "SMlb-nh69JQQ",
        "outputId": "b858e73a-2914-4e7a-e5c9-666a04817187"
      },
      "execution_count": 34,
      "outputs": [
        {
          "output_type": "execute_result",
          "data": {
            "text/plain": [
              "White    1726917\n",
              "Black    1542405\n",
              "Name: Winner, dtype: int64"
            ]
          },
          "metadata": {},
          "execution_count": 34
        }
      ]
    },
    {
      "cell_type": "markdown",
      "source": [
        "From the above chart, we can infer that both White and Black Winners have equal representation and therefore, it is an not an unbalanced data set"
      ],
      "metadata": {
        "id": "JcSwZKZM_aYC"
      }
    },
    {
      "cell_type": "markdown",
      "source": [
        "As the TimeControl attribute is a derived attribute of Initial Time and Increment, we can remove those fields from the list of predictor variables"
      ],
      "metadata": {
        "id": "b1PqnoaPRs-r"
      }
    },
    {
      "cell_type": "code",
      "source": [
        "# Renaming Columns\n",
        "\n",
        "df_fnl.rename(columns={'Term_Rules infraction': 'Term_Rul_Infraction', 'Term_Time forfeit': 'Term_Rul_Time_Forfeit', 'Term_Normal': 'Term_Rul_Normal'}, inplace=True)\n",
        "df_fnl.head()"
      ],
      "metadata": {
        "colab": {
          "base_uri": "https://localhost:8080/",
          "height": 317
        },
        "id": "npiY9uMuZkCl",
        "outputId": "439f6cbf-84f9-41e2-dc65-697b76e0915a"
      },
      "execution_count": 35,
      "outputs": [
        {
          "output_type": "execute_result",
          "data": {
            "text/plain": [
              "   Unnamed: 0  WhiteElo  BlackElo Winner   Termination  Day  Month  Year  \\\n",
              "0         134      1516      1480  White  Time forfeit    1      1  2013   \n",
              "1         135      1231      1814  Black        Normal    1      1  2013   \n",
              "2         136      1612      1555  Black        Normal    1      1  2013   \n",
              "3         137      1879      1237  White  Time forfeit    1      1  2013   \n",
              "4         138      1815      1222  White  Time forfeit    1      1  2013   \n",
              "\n",
              "   InitialTime  Increment  ... TimeControl_Classical  TimeControl_Rapid  \\\n",
              "0           60          0  ...                     0                  0   \n",
              "1           60          0  ...                     0                  0   \n",
              "2           60          1  ...                     0                  0   \n",
              "3           60          0  ...                     0                  0   \n",
              "4           60          0  ...                     0                  0   \n",
              "\n",
              "  Term_Rul_Normal Term_Rul_Infraction  Term_Rul_Time_Forfeit  Rating_B  \\\n",
              "0               0                   0                      1         0   \n",
              "1               1                   0                      0         1   \n",
              "2               1                   0                      0         0   \n",
              "3               0                   0                      1         0   \n",
              "4               0                   0                      1         0   \n",
              "\n",
              "   Rating_EQ  Rating_W  Diff_Rating  Higher_Rated_Plyr_Win  \n",
              "0          0         1           36                      1  \n",
              "1          0         0          583                      1  \n",
              "2          0         1           57                      0  \n",
              "3          0         1          642                      1  \n",
              "4          0         1          593                      1  \n",
              "\n",
              "[5 rows x 26 columns]"
            ],
            "text/html": [
              "\n",
              "  <div id=\"df-cf092cd4-14fb-44bf-afa6-0158ce9565a8\">\n",
              "    <div class=\"colab-df-container\">\n",
              "      <div>\n",
              "<style scoped>\n",
              "    .dataframe tbody tr th:only-of-type {\n",
              "        vertical-align: middle;\n",
              "    }\n",
              "\n",
              "    .dataframe tbody tr th {\n",
              "        vertical-align: top;\n",
              "    }\n",
              "\n",
              "    .dataframe thead th {\n",
              "        text-align: right;\n",
              "    }\n",
              "</style>\n",
              "<table border=\"1\" class=\"dataframe\">\n",
              "  <thead>\n",
              "    <tr style=\"text-align: right;\">\n",
              "      <th></th>\n",
              "      <th>Unnamed: 0</th>\n",
              "      <th>WhiteElo</th>\n",
              "      <th>BlackElo</th>\n",
              "      <th>Winner</th>\n",
              "      <th>Termination</th>\n",
              "      <th>Day</th>\n",
              "      <th>Month</th>\n",
              "      <th>Year</th>\n",
              "      <th>InitialTime</th>\n",
              "      <th>Increment</th>\n",
              "      <th>...</th>\n",
              "      <th>TimeControl_Classical</th>\n",
              "      <th>TimeControl_Rapid</th>\n",
              "      <th>Term_Rul_Normal</th>\n",
              "      <th>Term_Rul_Infraction</th>\n",
              "      <th>Term_Rul_Time_Forfeit</th>\n",
              "      <th>Rating_B</th>\n",
              "      <th>Rating_EQ</th>\n",
              "      <th>Rating_W</th>\n",
              "      <th>Diff_Rating</th>\n",
              "      <th>Higher_Rated_Plyr_Win</th>\n",
              "    </tr>\n",
              "  </thead>\n",
              "  <tbody>\n",
              "    <tr>\n",
              "      <th>0</th>\n",
              "      <td>134</td>\n",
              "      <td>1516</td>\n",
              "      <td>1480</td>\n",
              "      <td>White</td>\n",
              "      <td>Time forfeit</td>\n",
              "      <td>1</td>\n",
              "      <td>1</td>\n",
              "      <td>2013</td>\n",
              "      <td>60</td>\n",
              "      <td>0</td>\n",
              "      <td>...</td>\n",
              "      <td>0</td>\n",
              "      <td>0</td>\n",
              "      <td>0</td>\n",
              "      <td>0</td>\n",
              "      <td>1</td>\n",
              "      <td>0</td>\n",
              "      <td>0</td>\n",
              "      <td>1</td>\n",
              "      <td>36</td>\n",
              "      <td>1</td>\n",
              "    </tr>\n",
              "    <tr>\n",
              "      <th>1</th>\n",
              "      <td>135</td>\n",
              "      <td>1231</td>\n",
              "      <td>1814</td>\n",
              "      <td>Black</td>\n",
              "      <td>Normal</td>\n",
              "      <td>1</td>\n",
              "      <td>1</td>\n",
              "      <td>2013</td>\n",
              "      <td>60</td>\n",
              "      <td>0</td>\n",
              "      <td>...</td>\n",
              "      <td>0</td>\n",
              "      <td>0</td>\n",
              "      <td>1</td>\n",
              "      <td>0</td>\n",
              "      <td>0</td>\n",
              "      <td>1</td>\n",
              "      <td>0</td>\n",
              "      <td>0</td>\n",
              "      <td>583</td>\n",
              "      <td>1</td>\n",
              "    </tr>\n",
              "    <tr>\n",
              "      <th>2</th>\n",
              "      <td>136</td>\n",
              "      <td>1612</td>\n",
              "      <td>1555</td>\n",
              "      <td>Black</td>\n",
              "      <td>Normal</td>\n",
              "      <td>1</td>\n",
              "      <td>1</td>\n",
              "      <td>2013</td>\n",
              "      <td>60</td>\n",
              "      <td>1</td>\n",
              "      <td>...</td>\n",
              "      <td>0</td>\n",
              "      <td>0</td>\n",
              "      <td>1</td>\n",
              "      <td>0</td>\n",
              "      <td>0</td>\n",
              "      <td>0</td>\n",
              "      <td>0</td>\n",
              "      <td>1</td>\n",
              "      <td>57</td>\n",
              "      <td>0</td>\n",
              "    </tr>\n",
              "    <tr>\n",
              "      <th>3</th>\n",
              "      <td>137</td>\n",
              "      <td>1879</td>\n",
              "      <td>1237</td>\n",
              "      <td>White</td>\n",
              "      <td>Time forfeit</td>\n",
              "      <td>1</td>\n",
              "      <td>1</td>\n",
              "      <td>2013</td>\n",
              "      <td>60</td>\n",
              "      <td>0</td>\n",
              "      <td>...</td>\n",
              "      <td>0</td>\n",
              "      <td>0</td>\n",
              "      <td>0</td>\n",
              "      <td>0</td>\n",
              "      <td>1</td>\n",
              "      <td>0</td>\n",
              "      <td>0</td>\n",
              "      <td>1</td>\n",
              "      <td>642</td>\n",
              "      <td>1</td>\n",
              "    </tr>\n",
              "    <tr>\n",
              "      <th>4</th>\n",
              "      <td>138</td>\n",
              "      <td>1815</td>\n",
              "      <td>1222</td>\n",
              "      <td>White</td>\n",
              "      <td>Time forfeit</td>\n",
              "      <td>1</td>\n",
              "      <td>1</td>\n",
              "      <td>2013</td>\n",
              "      <td>60</td>\n",
              "      <td>0</td>\n",
              "      <td>...</td>\n",
              "      <td>0</td>\n",
              "      <td>0</td>\n",
              "      <td>0</td>\n",
              "      <td>0</td>\n",
              "      <td>1</td>\n",
              "      <td>0</td>\n",
              "      <td>0</td>\n",
              "      <td>1</td>\n",
              "      <td>593</td>\n",
              "      <td>1</td>\n",
              "    </tr>\n",
              "  </tbody>\n",
              "</table>\n",
              "<p>5 rows × 26 columns</p>\n",
              "</div>\n",
              "      <button class=\"colab-df-convert\" onclick=\"convertToInteractive('df-cf092cd4-14fb-44bf-afa6-0158ce9565a8')\"\n",
              "              title=\"Convert this dataframe to an interactive table.\"\n",
              "              style=\"display:none;\">\n",
              "        \n",
              "  <svg xmlns=\"http://www.w3.org/2000/svg\" height=\"24px\"viewBox=\"0 0 24 24\"\n",
              "       width=\"24px\">\n",
              "    <path d=\"M0 0h24v24H0V0z\" fill=\"none\"/>\n",
              "    <path d=\"M18.56 5.44l.94 2.06.94-2.06 2.06-.94-2.06-.94-.94-2.06-.94 2.06-2.06.94zm-11 1L8.5 8.5l.94-2.06 2.06-.94-2.06-.94L8.5 2.5l-.94 2.06-2.06.94zm10 10l.94 2.06.94-2.06 2.06-.94-2.06-.94-.94-2.06-.94 2.06-2.06.94z\"/><path d=\"M17.41 7.96l-1.37-1.37c-.4-.4-.92-.59-1.43-.59-.52 0-1.04.2-1.43.59L10.3 9.45l-7.72 7.72c-.78.78-.78 2.05 0 2.83L4 21.41c.39.39.9.59 1.41.59.51 0 1.02-.2 1.41-.59l7.78-7.78 2.81-2.81c.8-.78.8-2.07 0-2.86zM5.41 20L4 18.59l7.72-7.72 1.47 1.35L5.41 20z\"/>\n",
              "  </svg>\n",
              "      </button>\n",
              "      \n",
              "  <style>\n",
              "    .colab-df-container {\n",
              "      display:flex;\n",
              "      flex-wrap:wrap;\n",
              "      gap: 12px;\n",
              "    }\n",
              "\n",
              "    .colab-df-convert {\n",
              "      background-color: #E8F0FE;\n",
              "      border: none;\n",
              "      border-radius: 50%;\n",
              "      cursor: pointer;\n",
              "      display: none;\n",
              "      fill: #1967D2;\n",
              "      height: 32px;\n",
              "      padding: 0 0 0 0;\n",
              "      width: 32px;\n",
              "    }\n",
              "\n",
              "    .colab-df-convert:hover {\n",
              "      background-color: #E2EBFA;\n",
              "      box-shadow: 0px 1px 2px rgba(60, 64, 67, 0.3), 0px 1px 3px 1px rgba(60, 64, 67, 0.15);\n",
              "      fill: #174EA6;\n",
              "    }\n",
              "\n",
              "    [theme=dark] .colab-df-convert {\n",
              "      background-color: #3B4455;\n",
              "      fill: #D2E3FC;\n",
              "    }\n",
              "\n",
              "    [theme=dark] .colab-df-convert:hover {\n",
              "      background-color: #434B5C;\n",
              "      box-shadow: 0px 1px 3px 1px rgba(0, 0, 0, 0.15);\n",
              "      filter: drop-shadow(0px 1px 2px rgba(0, 0, 0, 0.3));\n",
              "      fill: #FFFFFF;\n",
              "    }\n",
              "  </style>\n",
              "\n",
              "      <script>\n",
              "        const buttonEl =\n",
              "          document.querySelector('#df-cf092cd4-14fb-44bf-afa6-0158ce9565a8 button.colab-df-convert');\n",
              "        buttonEl.style.display =\n",
              "          google.colab.kernel.accessAllowed ? 'block' : 'none';\n",
              "\n",
              "        async function convertToInteractive(key) {\n",
              "          const element = document.querySelector('#df-cf092cd4-14fb-44bf-afa6-0158ce9565a8');\n",
              "          const dataTable =\n",
              "            await google.colab.kernel.invokeFunction('convertToInteractive',\n",
              "                                                     [key], {});\n",
              "          if (!dataTable) return;\n",
              "\n",
              "          const docLinkHtml = 'Like what you see? Visit the ' +\n",
              "            '<a target=\"_blank\" href=https://colab.research.google.com/notebooks/data_table.ipynb>data table notebook</a>'\n",
              "            + ' to learn more about interactive tables.';\n",
              "          element.innerHTML = '';\n",
              "          dataTable['output_type'] = 'display_data';\n",
              "          await google.colab.output.renderOutput(dataTable, element);\n",
              "          const docLink = document.createElement('div');\n",
              "          docLink.innerHTML = docLinkHtml;\n",
              "          element.appendChild(docLink);\n",
              "        }\n",
              "      </script>\n",
              "    </div>\n",
              "  </div>\n",
              "  "
            ]
          },
          "metadata": {},
          "execution_count": 35
        }
      ]
    },
    {
      "cell_type": "code",
      "source": [
        "# Dropping Unnamed :0, IntitialTime, Increment, Day, Month, Year columns from the dataframe\n",
        "\n",
        "df_fnl = df_fnl.drop(['Day', 'Month', 'Year', 'InitialTime', 'Increment', 'Unnamed: 0'], axis=1)"
      ],
      "metadata": {
        "id": "nrrzZwbc816H"
      },
      "execution_count": 36,
      "outputs": []
    },
    {
      "cell_type": "code",
      "source": [
        "df_fnl.dtypes"
      ],
      "metadata": {
        "colab": {
          "base_uri": "https://localhost:8080/"
        },
        "id": "F3dzyR-9Cqn4",
        "outputId": "c729f2aa-ac38-418a-d6d5-18e0845ba430"
      },
      "execution_count": 37,
      "outputs": [
        {
          "output_type": "execute_result",
          "data": {
            "text/plain": [
              "WhiteElo                  int64\n",
              "BlackElo                  int64\n",
              "Winner                   object\n",
              "Termination              object\n",
              "TimeControl              object\n",
              "Number_of_Moves           int64\n",
              "Win_Color                object\n",
              "Rating                   object\n",
              "TimeControl_Blitz         uint8\n",
              "TimeControl_Bullet        uint8\n",
              "TimeControl_Classical     uint8\n",
              "TimeControl_Rapid         uint8\n",
              "Term_Rul_Normal           uint8\n",
              "Term_Rul_Infraction       uint8\n",
              "Term_Rul_Time_Forfeit     uint8\n",
              "Rating_B                  uint8\n",
              "Rating_EQ                 uint8\n",
              "Rating_W                  uint8\n",
              "Diff_Rating               int64\n",
              "Higher_Rated_Plyr_Win    object\n",
              "dtype: object"
            ]
          },
          "metadata": {},
          "execution_count": 37
        }
      ]
    },
    {
      "cell_type": "code",
      "source": [
        "df_fnl.head(10)"
      ],
      "metadata": {
        "colab": {
          "base_uri": "https://localhost:8080/",
          "height": 427
        },
        "id": "iT8ImSgUCwB7",
        "outputId": "96c24c19-8f09-46e2-c1f5-579f29408675"
      },
      "execution_count": 38,
      "outputs": [
        {
          "output_type": "execute_result",
          "data": {
            "text/plain": [
              "   WhiteElo  BlackElo Winner   Termination TimeControl  Number_of_Moves  \\\n",
              "0      1516      1480  White  Time forfeit      Bullet               28   \n",
              "1      1231      1814  Black        Normal      Bullet               19   \n",
              "2      1612      1555  Black        Normal      Bullet               13   \n",
              "3      1879      1237  White  Time forfeit      Bullet               21   \n",
              "4      1815      1222  White  Time forfeit      Bullet               33   \n",
              "5      1877      1319  White        Normal      Bullet               20   \n",
              "6      1367      1555  Black  Time forfeit      Bullet               10   \n",
              "7      1507      1617  White        Normal       Rapid               31   \n",
              "8      1542      1404  White        Normal       Rapid               80   \n",
              "9      1540      1653  White        Normal       Blitz               29   \n",
              "\n",
              "  Win_Color Rating  TimeControl_Blitz  TimeControl_Bullet  \\\n",
              "0         1      W                  0                   1   \n",
              "1         0      B                  0                   1   \n",
              "2         0      W                  0                   1   \n",
              "3         1      W                  0                   1   \n",
              "4         1      W                  0                   1   \n",
              "5         1      W                  0                   1   \n",
              "6         0      B                  0                   1   \n",
              "7         1      B                  0                   0   \n",
              "8         1      W                  0                   0   \n",
              "9         1      B                  1                   0   \n",
              "\n",
              "   TimeControl_Classical  TimeControl_Rapid  Term_Rul_Normal  \\\n",
              "0                      0                  0                0   \n",
              "1                      0                  0                1   \n",
              "2                      0                  0                1   \n",
              "3                      0                  0                0   \n",
              "4                      0                  0                0   \n",
              "5                      0                  0                1   \n",
              "6                      0                  0                0   \n",
              "7                      0                  1                1   \n",
              "8                      0                  1                1   \n",
              "9                      0                  0                1   \n",
              "\n",
              "   Term_Rul_Infraction  Term_Rul_Time_Forfeit  Rating_B  Rating_EQ  Rating_W  \\\n",
              "0                    0                      1         0          0         1   \n",
              "1                    0                      0         1          0         0   \n",
              "2                    0                      0         0          0         1   \n",
              "3                    0                      1         0          0         1   \n",
              "4                    0                      1         0          0         1   \n",
              "5                    0                      0         0          0         1   \n",
              "6                    0                      1         1          0         0   \n",
              "7                    0                      0         1          0         0   \n",
              "8                    0                      0         0          0         1   \n",
              "9                    0                      0         1          0         0   \n",
              "\n",
              "   Diff_Rating Higher_Rated_Plyr_Win  \n",
              "0           36                     1  \n",
              "1          583                     1  \n",
              "2           57                     0  \n",
              "3          642                     1  \n",
              "4          593                     1  \n",
              "5          558                     1  \n",
              "6          188                     1  \n",
              "7          110                     0  \n",
              "8          138                     1  \n",
              "9          113                     0  "
            ],
            "text/html": [
              "\n",
              "  <div id=\"df-b90f3337-1c57-4197-875d-77dcdff2fa27\">\n",
              "    <div class=\"colab-df-container\">\n",
              "      <div>\n",
              "<style scoped>\n",
              "    .dataframe tbody tr th:only-of-type {\n",
              "        vertical-align: middle;\n",
              "    }\n",
              "\n",
              "    .dataframe tbody tr th {\n",
              "        vertical-align: top;\n",
              "    }\n",
              "\n",
              "    .dataframe thead th {\n",
              "        text-align: right;\n",
              "    }\n",
              "</style>\n",
              "<table border=\"1\" class=\"dataframe\">\n",
              "  <thead>\n",
              "    <tr style=\"text-align: right;\">\n",
              "      <th></th>\n",
              "      <th>WhiteElo</th>\n",
              "      <th>BlackElo</th>\n",
              "      <th>Winner</th>\n",
              "      <th>Termination</th>\n",
              "      <th>TimeControl</th>\n",
              "      <th>Number_of_Moves</th>\n",
              "      <th>Win_Color</th>\n",
              "      <th>Rating</th>\n",
              "      <th>TimeControl_Blitz</th>\n",
              "      <th>TimeControl_Bullet</th>\n",
              "      <th>TimeControl_Classical</th>\n",
              "      <th>TimeControl_Rapid</th>\n",
              "      <th>Term_Rul_Normal</th>\n",
              "      <th>Term_Rul_Infraction</th>\n",
              "      <th>Term_Rul_Time_Forfeit</th>\n",
              "      <th>Rating_B</th>\n",
              "      <th>Rating_EQ</th>\n",
              "      <th>Rating_W</th>\n",
              "      <th>Diff_Rating</th>\n",
              "      <th>Higher_Rated_Plyr_Win</th>\n",
              "    </tr>\n",
              "  </thead>\n",
              "  <tbody>\n",
              "    <tr>\n",
              "      <th>0</th>\n",
              "      <td>1516</td>\n",
              "      <td>1480</td>\n",
              "      <td>White</td>\n",
              "      <td>Time forfeit</td>\n",
              "      <td>Bullet</td>\n",
              "      <td>28</td>\n",
              "      <td>1</td>\n",
              "      <td>W</td>\n",
              "      <td>0</td>\n",
              "      <td>1</td>\n",
              "      <td>0</td>\n",
              "      <td>0</td>\n",
              "      <td>0</td>\n",
              "      <td>0</td>\n",
              "      <td>1</td>\n",
              "      <td>0</td>\n",
              "      <td>0</td>\n",
              "      <td>1</td>\n",
              "      <td>36</td>\n",
              "      <td>1</td>\n",
              "    </tr>\n",
              "    <tr>\n",
              "      <th>1</th>\n",
              "      <td>1231</td>\n",
              "      <td>1814</td>\n",
              "      <td>Black</td>\n",
              "      <td>Normal</td>\n",
              "      <td>Bullet</td>\n",
              "      <td>19</td>\n",
              "      <td>0</td>\n",
              "      <td>B</td>\n",
              "      <td>0</td>\n",
              "      <td>1</td>\n",
              "      <td>0</td>\n",
              "      <td>0</td>\n",
              "      <td>1</td>\n",
              "      <td>0</td>\n",
              "      <td>0</td>\n",
              "      <td>1</td>\n",
              "      <td>0</td>\n",
              "      <td>0</td>\n",
              "      <td>583</td>\n",
              "      <td>1</td>\n",
              "    </tr>\n",
              "    <tr>\n",
              "      <th>2</th>\n",
              "      <td>1612</td>\n",
              "      <td>1555</td>\n",
              "      <td>Black</td>\n",
              "      <td>Normal</td>\n",
              "      <td>Bullet</td>\n",
              "      <td>13</td>\n",
              "      <td>0</td>\n",
              "      <td>W</td>\n",
              "      <td>0</td>\n",
              "      <td>1</td>\n",
              "      <td>0</td>\n",
              "      <td>0</td>\n",
              "      <td>1</td>\n",
              "      <td>0</td>\n",
              "      <td>0</td>\n",
              "      <td>0</td>\n",
              "      <td>0</td>\n",
              "      <td>1</td>\n",
              "      <td>57</td>\n",
              "      <td>0</td>\n",
              "    </tr>\n",
              "    <tr>\n",
              "      <th>3</th>\n",
              "      <td>1879</td>\n",
              "      <td>1237</td>\n",
              "      <td>White</td>\n",
              "      <td>Time forfeit</td>\n",
              "      <td>Bullet</td>\n",
              "      <td>21</td>\n",
              "      <td>1</td>\n",
              "      <td>W</td>\n",
              "      <td>0</td>\n",
              "      <td>1</td>\n",
              "      <td>0</td>\n",
              "      <td>0</td>\n",
              "      <td>0</td>\n",
              "      <td>0</td>\n",
              "      <td>1</td>\n",
              "      <td>0</td>\n",
              "      <td>0</td>\n",
              "      <td>1</td>\n",
              "      <td>642</td>\n",
              "      <td>1</td>\n",
              "    </tr>\n",
              "    <tr>\n",
              "      <th>4</th>\n",
              "      <td>1815</td>\n",
              "      <td>1222</td>\n",
              "      <td>White</td>\n",
              "      <td>Time forfeit</td>\n",
              "      <td>Bullet</td>\n",
              "      <td>33</td>\n",
              "      <td>1</td>\n",
              "      <td>W</td>\n",
              "      <td>0</td>\n",
              "      <td>1</td>\n",
              "      <td>0</td>\n",
              "      <td>0</td>\n",
              "      <td>0</td>\n",
              "      <td>0</td>\n",
              "      <td>1</td>\n",
              "      <td>0</td>\n",
              "      <td>0</td>\n",
              "      <td>1</td>\n",
              "      <td>593</td>\n",
              "      <td>1</td>\n",
              "    </tr>\n",
              "    <tr>\n",
              "      <th>5</th>\n",
              "      <td>1877</td>\n",
              "      <td>1319</td>\n",
              "      <td>White</td>\n",
              "      <td>Normal</td>\n",
              "      <td>Bullet</td>\n",
              "      <td>20</td>\n",
              "      <td>1</td>\n",
              "      <td>W</td>\n",
              "      <td>0</td>\n",
              "      <td>1</td>\n",
              "      <td>0</td>\n",
              "      <td>0</td>\n",
              "      <td>1</td>\n",
              "      <td>0</td>\n",
              "      <td>0</td>\n",
              "      <td>0</td>\n",
              "      <td>0</td>\n",
              "      <td>1</td>\n",
              "      <td>558</td>\n",
              "      <td>1</td>\n",
              "    </tr>\n",
              "    <tr>\n",
              "      <th>6</th>\n",
              "      <td>1367</td>\n",
              "      <td>1555</td>\n",
              "      <td>Black</td>\n",
              "      <td>Time forfeit</td>\n",
              "      <td>Bullet</td>\n",
              "      <td>10</td>\n",
              "      <td>0</td>\n",
              "      <td>B</td>\n",
              "      <td>0</td>\n",
              "      <td>1</td>\n",
              "      <td>0</td>\n",
              "      <td>0</td>\n",
              "      <td>0</td>\n",
              "      <td>0</td>\n",
              "      <td>1</td>\n",
              "      <td>1</td>\n",
              "      <td>0</td>\n",
              "      <td>0</td>\n",
              "      <td>188</td>\n",
              "      <td>1</td>\n",
              "    </tr>\n",
              "    <tr>\n",
              "      <th>7</th>\n",
              "      <td>1507</td>\n",
              "      <td>1617</td>\n",
              "      <td>White</td>\n",
              "      <td>Normal</td>\n",
              "      <td>Rapid</td>\n",
              "      <td>31</td>\n",
              "      <td>1</td>\n",
              "      <td>B</td>\n",
              "      <td>0</td>\n",
              "      <td>0</td>\n",
              "      <td>0</td>\n",
              "      <td>1</td>\n",
              "      <td>1</td>\n",
              "      <td>0</td>\n",
              "      <td>0</td>\n",
              "      <td>1</td>\n",
              "      <td>0</td>\n",
              "      <td>0</td>\n",
              "      <td>110</td>\n",
              "      <td>0</td>\n",
              "    </tr>\n",
              "    <tr>\n",
              "      <th>8</th>\n",
              "      <td>1542</td>\n",
              "      <td>1404</td>\n",
              "      <td>White</td>\n",
              "      <td>Normal</td>\n",
              "      <td>Rapid</td>\n",
              "      <td>80</td>\n",
              "      <td>1</td>\n",
              "      <td>W</td>\n",
              "      <td>0</td>\n",
              "      <td>0</td>\n",
              "      <td>0</td>\n",
              "      <td>1</td>\n",
              "      <td>1</td>\n",
              "      <td>0</td>\n",
              "      <td>0</td>\n",
              "      <td>0</td>\n",
              "      <td>0</td>\n",
              "      <td>1</td>\n",
              "      <td>138</td>\n",
              "      <td>1</td>\n",
              "    </tr>\n",
              "    <tr>\n",
              "      <th>9</th>\n",
              "      <td>1540</td>\n",
              "      <td>1653</td>\n",
              "      <td>White</td>\n",
              "      <td>Normal</td>\n",
              "      <td>Blitz</td>\n",
              "      <td>29</td>\n",
              "      <td>1</td>\n",
              "      <td>B</td>\n",
              "      <td>1</td>\n",
              "      <td>0</td>\n",
              "      <td>0</td>\n",
              "      <td>0</td>\n",
              "      <td>1</td>\n",
              "      <td>0</td>\n",
              "      <td>0</td>\n",
              "      <td>1</td>\n",
              "      <td>0</td>\n",
              "      <td>0</td>\n",
              "      <td>113</td>\n",
              "      <td>0</td>\n",
              "    </tr>\n",
              "  </tbody>\n",
              "</table>\n",
              "</div>\n",
              "      <button class=\"colab-df-convert\" onclick=\"convertToInteractive('df-b90f3337-1c57-4197-875d-77dcdff2fa27')\"\n",
              "              title=\"Convert this dataframe to an interactive table.\"\n",
              "              style=\"display:none;\">\n",
              "        \n",
              "  <svg xmlns=\"http://www.w3.org/2000/svg\" height=\"24px\"viewBox=\"0 0 24 24\"\n",
              "       width=\"24px\">\n",
              "    <path d=\"M0 0h24v24H0V0z\" fill=\"none\"/>\n",
              "    <path d=\"M18.56 5.44l.94 2.06.94-2.06 2.06-.94-2.06-.94-.94-2.06-.94 2.06-2.06.94zm-11 1L8.5 8.5l.94-2.06 2.06-.94-2.06-.94L8.5 2.5l-.94 2.06-2.06.94zm10 10l.94 2.06.94-2.06 2.06-.94-2.06-.94-.94-2.06-.94 2.06-2.06.94z\"/><path d=\"M17.41 7.96l-1.37-1.37c-.4-.4-.92-.59-1.43-.59-.52 0-1.04.2-1.43.59L10.3 9.45l-7.72 7.72c-.78.78-.78 2.05 0 2.83L4 21.41c.39.39.9.59 1.41.59.51 0 1.02-.2 1.41-.59l7.78-7.78 2.81-2.81c.8-.78.8-2.07 0-2.86zM5.41 20L4 18.59l7.72-7.72 1.47 1.35L5.41 20z\"/>\n",
              "  </svg>\n",
              "      </button>\n",
              "      \n",
              "  <style>\n",
              "    .colab-df-container {\n",
              "      display:flex;\n",
              "      flex-wrap:wrap;\n",
              "      gap: 12px;\n",
              "    }\n",
              "\n",
              "    .colab-df-convert {\n",
              "      background-color: #E8F0FE;\n",
              "      border: none;\n",
              "      border-radius: 50%;\n",
              "      cursor: pointer;\n",
              "      display: none;\n",
              "      fill: #1967D2;\n",
              "      height: 32px;\n",
              "      padding: 0 0 0 0;\n",
              "      width: 32px;\n",
              "    }\n",
              "\n",
              "    .colab-df-convert:hover {\n",
              "      background-color: #E2EBFA;\n",
              "      box-shadow: 0px 1px 2px rgba(60, 64, 67, 0.3), 0px 1px 3px 1px rgba(60, 64, 67, 0.15);\n",
              "      fill: #174EA6;\n",
              "    }\n",
              "\n",
              "    [theme=dark] .colab-df-convert {\n",
              "      background-color: #3B4455;\n",
              "      fill: #D2E3FC;\n",
              "    }\n",
              "\n",
              "    [theme=dark] .colab-df-convert:hover {\n",
              "      background-color: #434B5C;\n",
              "      box-shadow: 0px 1px 3px 1px rgba(0, 0, 0, 0.15);\n",
              "      filter: drop-shadow(0px 1px 2px rgba(0, 0, 0, 0.3));\n",
              "      fill: #FFFFFF;\n",
              "    }\n",
              "  </style>\n",
              "\n",
              "      <script>\n",
              "        const buttonEl =\n",
              "          document.querySelector('#df-b90f3337-1c57-4197-875d-77dcdff2fa27 button.colab-df-convert');\n",
              "        buttonEl.style.display =\n",
              "          google.colab.kernel.accessAllowed ? 'block' : 'none';\n",
              "\n",
              "        async function convertToInteractive(key) {\n",
              "          const element = document.querySelector('#df-b90f3337-1c57-4197-875d-77dcdff2fa27');\n",
              "          const dataTable =\n",
              "            await google.colab.kernel.invokeFunction('convertToInteractive',\n",
              "                                                     [key], {});\n",
              "          if (!dataTable) return;\n",
              "\n",
              "          const docLinkHtml = 'Like what you see? Visit the ' +\n",
              "            '<a target=\"_blank\" href=https://colab.research.google.com/notebooks/data_table.ipynb>data table notebook</a>'\n",
              "            + ' to learn more about interactive tables.';\n",
              "          element.innerHTML = '';\n",
              "          dataTable['output_type'] = 'display_data';\n",
              "          await google.colab.output.renderOutput(dataTable, element);\n",
              "          const docLink = document.createElement('div');\n",
              "          docLink.innerHTML = docLinkHtml;\n",
              "          element.appendChild(docLink);\n",
              "        }\n",
              "      </script>\n",
              "    </div>\n",
              "  </div>\n",
              "  "
            ]
          },
          "metadata": {},
          "execution_count": 38
        }
      ]
    },
    {
      "cell_type": "markdown",
      "source": [
        "# Hypothesis 1"
      ],
      "metadata": {
        "id": "IHBH6RNsgE0l"
      }
    },
    {
      "cell_type": "code",
      "source": [
        "#Lets do a random sampling of the existing data to see how well the hypothesis fits in the existing data. \n",
        "#The hypothesis to test here is that white player has a higher probability to win than black player.\n",
        "\n",
        "samplesize = 100\n",
        "whitewin = 0\n",
        "x_data = []\n",
        "y_data = []\n",
        "\n",
        "for num_simulations in range(1, 1001):\n",
        "    df_sample = df_fnl.sample(n=samplesize)\n",
        "    whitewin += len(df_sample[df_sample.Win_Color == 1])\n",
        "    y_data.append(float(whitewin) / float(num_simulations*samplesize))\n",
        "    x_data.append(num_simulations)\n",
        "\n",
        "plt.plot(x_data,y_data)\n",
        "#Based on the plot below the plot, the probability of white winning any game is about 0.53. Though this is slightly higher than\n",
        "#the ideal mean of 0.5, this is not strong enough to indicate a bias towards white for any game. "
      ],
      "metadata": {
        "colab": {
          "base_uri": "https://localhost:8080/",
          "height": 283
        },
        "id": "bwIP7vGHgDky",
        "outputId": "50de4aae-4dd1-41d3-e319-653a70df5dc4"
      },
      "execution_count": 39,
      "outputs": [
        {
          "output_type": "execute_result",
          "data": {
            "text/plain": [
              "[<matplotlib.lines.Line2D at 0x7f76c011f8e0>]"
            ]
          },
          "metadata": {},
          "execution_count": 39
        },
        {
          "output_type": "display_data",
          "data": {
            "text/plain": [
              "<Figure size 432x288 with 1 Axes>"
            ],
            "image/png": "[encoded data removed]"
          },
          "metadata": {}
        }
      ]
    },
    {
      "cell_type": "code",
      "source": [
        "#Lets start will a null hypothesis that probability of white winning is 0.50.\n",
        "\n",
        "#samplesize = len(df_sample.index)\n",
        "#whitewin = len(df_sample[df_sample.Win_Color == 1])\n",
        "#pointestimate = whitewin/samplesize\n",
        "pointestimate = y_data[num_simulations-1]\n",
        "print (\"pointestimate:\", pointestimate)\n",
        "#p for null hypothesis\n",
        "po = 0.5\n",
        "#standard error for null hypothesis\n",
        "SEo = np.sqrt(((po*(1-po))/samplesize))\n",
        "print (\"Standard Error:\", SEo)\n",
        "\n",
        "sigma = SEo * np.sqrt(samplesize)\n",
        "print (\"Sigma:\", sigma)\n",
        "\n",
        "z = (pointestimate - po)/SEo\n",
        "print (\"Z Value:\", z)\n",
        "\n",
        "pnew = 2*norm.sf(abs(z))\n",
        "\n",
        "print (\"New P-value\", pnew)"
      ],
      "metadata": {
        "id": "yq1kdcKsgDhU",
        "colab": {
          "base_uri": "https://localhost:8080/"
        },
        "outputId": "55196afb-2c1a-4626-ce67-d32528329ff8"
      },
      "execution_count": 40,
      "outputs": [
        {
          "output_type": "stream",
          "name": "stdout",
          "text": [
            "pointestimate: 0.52532\n",
            "Standard Error: 0.05\n",
            "Sigma: 0.5\n",
            "Z Value: 0.5064000000000002\n",
            "New P-value 0.6125758745724573\n"
          ]
        }
      ]
    },
    {
      "cell_type": "code",
      "source": [
        "if pnew <= 0.05:\n",
        "    print(\"The new p-value is less than 0.05 and hence the NULL hypothesis can be rejected with 95% confidence. The probability of winning is not equal for both white and black\")\n",
        "else:\n",
        "    print(\"The new p-value is greater than 0.05 and hence the NULL hypothesis cannot be rejected. There is no strong evidence to reject that winning is equal for both white and black\")"
      ],
      "metadata": {
        "id": "wDNHraT8gDeN",
        "colab": {
          "base_uri": "https://localhost:8080/"
        },
        "outputId": "0c9b25ca-9fa2-4a22-b9f2-c8ba5d403884"
      },
      "execution_count": 41,
      "outputs": [
        {
          "output_type": "stream",
          "name": "stdout",
          "text": [
            "The new p-value is greater than 0.05 and hence the NULL hypothesis cannot be rejected. There is no strong evidence to reject that winning is equal for both white and black\n"
          ]
        }
      ]
    },
    {
      "cell_type": "code",
      "source": [
        "plt.figure(figsize=(12,10))\n",
        "\n",
        "#find the value where the 95% confidence level starts\n",
        "x_cr = norm.ppf(0.025, loc=po, scale=sigma)\n",
        "x_r = (po - x_cr) + po\n",
        "\n",
        "start = po-3*(sigma)\n",
        "end = po+3*(sigma)\n",
        "if po < pointestimate:\n",
        "    pnew = 1 - pnew\n",
        "    \n",
        "x = np.linspace(start, end, 1000)\n",
        "plt.plot(x, norm.pdf(x, loc=po, scale=sigma))\n",
        "plt.title(\"Null hypothesis\")\n",
        "plt.fill_between(x=np.arange(start, (start + abs(x_cr)), 0.01), y1=norm.pdf(np.arange(start, (start + abs(x_cr)), 0.01), loc=po, scale=sigma),\n",
        "                 facecolor='red')\n",
        "plt.fill_between(x=np.arange(x_r,end, 0.01), y1= norm.pdf(np.arange(x_r, end,0.01), loc=po, scale=sigma) ,\n",
        "                 facecolor='red')\n",
        "\n",
        "plt.text(x=0.30, y=0.5, s= \"Null Hypothesis\")\n",
        "plt.text(x=0.27, y=0.47, s= 'Fail to Reject the null')\n",
        "plt.text(x=0.30, y=0.45, s=r'$1- \\alpha$')\n",
        "plt.text(x=-0.75, y=0.04, s= \"Reject the Null\")\n",
        "plt.text(x=1.6, y=0.04, s= \"Reject the Null\")\n",
        "\n",
        "plt.vlines(norm.ppf(pnew, loc=po, scale=sigma), 0, 0.8, colors='r', linestyles='dotted', label='P New')\n",
        "plt.vlines(po, 0, 0.8, colors='b', linestyles='solid', label='P NULL')\n",
        "\n",
        "plt.legend(loc=\"upper right\")"
      ],
      "metadata": {
        "id": "poOJ4reKgDax",
        "colab": {
          "base_uri": "https://localhost:8080/",
          "height": 623
        },
        "outputId": "123c3104-89d1-4d27-ee2d-50c7c0d33921"
      },
      "execution_count": 42,
      "outputs": [
        {
          "output_type": "execute_result",
          "data": {
            "text/plain": [
              "<matplotlib.legend.Legend at 0x7f76c00da910>"
            ]
          },
          "metadata": {},
          "execution_count": 42
        },
        {
          "output_type": "display_data",
          "data": {
            "text/plain": [
              "<Figure size 864x720 with 1 Axes>"
            ],
            "image/png": "[encoded data removed]"
          },
          "metadata": {}
        }
      ]
    },
    {
      "cell_type": "markdown",
      "source": [
        "# Hypothesis 2 #"
      ],
      "metadata": {
        "id": "OSasRJFawEks"
      }
    },
    {
      "cell_type": "code",
      "source": [
        "# Eliminating the equal rating cases from the dataset to include only 0 and 1\n",
        "\n",
        "df_fnl_modified = df_fnl.loc[(df_fnl['Higher_Rated_Plyr_Win']== 0) | (df_fnl['Higher_Rated_Plyr_Win']==1)]\n",
        "df_fnl_modified['Higher_Rated_Plyr_Win'].value_counts()"
      ],
      "metadata": {
        "colab": {
          "base_uri": "https://localhost:8080/"
        },
        "id": "B0RixDGsrrjw",
        "outputId": "eef33401-8749-4c43-ea52-7bb874e7de97"
      },
      "execution_count": 43,
      "outputs": [
        {
          "output_type": "execute_result",
          "data": {
            "text/plain": [
              "1    2155105\n",
              "0    1104549\n",
              "Name: Higher_Rated_Plyr_Win, dtype: int64"
            ]
          },
          "metadata": {},
          "execution_count": 43
        }
      ]
    },
    {
      "cell_type": "code",
      "source": [
        "plt.scatter(df_fnl_modified['Higher_Rated_Plyr_Win'], df_fnl_modified['Diff_Rating'] ,color='blue',s=5,edgecolor='none')\n",
        "plt.xlabel('Games Outcome- 0: higher rate lose, 1: higher rate win')\n",
        "plt.ylabel('Absolute Rate Difference')\n",
        "plt.show()"
      ],
      "metadata": {
        "colab": {
          "base_uri": "https://localhost:8080/",
          "height": 280
        },
        "id": "teZxwOj6wHzb",
        "outputId": "b0dfdb70-1b0a-4b31-d80a-023c0329850c"
      },
      "execution_count": 44,
      "outputs": [
        {
          "output_type": "display_data",
          "data": {
            "text/plain": [
              "<Figure size 432x288 with 1 Axes>"
            ],
            "image/png": "[encoded data removed]"
          },
          "metadata": {}
        }
      ]
    },
    {
      "cell_type": "code",
      "source": [
        "# Split Dataframes -  HighRatedPlayer & LowRatedPlayer\n",
        "\n",
        "hpw = df_fnl_modified.loc[df_fnl_modified['Higher_Rated_Plyr_Win'] == 1]\n",
        "hpw_cnt = hpw[hpw.columns[1]].count() \n",
        "print(\"High Rated Player Win Count\", hpw_cnt)\n",
        "\n",
        "lpw = df_fnl_modified.loc[df_fnl_modified['Higher_Rated_Plyr_Win'] == 0]\n",
        "lpw_cnt = lpw[lpw.columns[1]].count() \n",
        "print(\"Low Rated Player Win Count\", lpw_cnt)"
      ],
      "metadata": {
        "colab": {
          "base_uri": "https://localhost:8080/"
        },
        "id": "fZr6s1vLrt9r",
        "outputId": "5fc2e799-1ea0-41b9-b735-227f48260a09"
      },
      "execution_count": 45,
      "outputs": [
        {
          "output_type": "stream",
          "name": "stdout",
          "text": [
            "High Rated Player Win Count 2155105\n",
            "Low Rated Player Win Count 1104549\n"
          ]
        }
      ]
    },
    {
      "cell_type": "code",
      "source": [
        "# Calculating the Total Record count from the DataFrame\n",
        "\n",
        "tot_cnt = df_fnl_modified.shape[0]\n",
        "tot_cnt"
      ],
      "metadata": {
        "colab": {
          "base_uri": "https://localhost:8080/"
        },
        "id": "JHDwA8OCuSVU",
        "outputId": "f89de48c-471a-4104-ee2d-e14abd26473f"
      },
      "execution_count": 46,
      "outputs": [
        {
          "output_type": "execute_result",
          "data": {
            "text/plain": [
              "3259654"
            ]
          },
          "metadata": {},
          "execution_count": 46
        }
      ]
    },
    {
      "cell_type": "code",
      "source": [
        "# Plotting Histogram when the High Rated Player Wins\n",
        "\n",
        "plt.hist(hpw[\"Diff_Rating\"], bins=50)\n",
        "plt.xlabel (\"Difference in Rating\")\n",
        "plt.show()\n"
      ],
      "metadata": {
        "colab": {
          "base_uri": "https://localhost:8080/",
          "height": 280
        },
        "id": "oCB5X4N6FUGJ",
        "outputId": "73ccc5e9-0706-45cd-a24c-e2e52fd83789"
      },
      "execution_count": 47,
      "outputs": [
        {
          "output_type": "display_data",
          "data": {
            "text/plain": [
              "<Figure size 432x288 with 1 Axes>"
            ],
            "image/png": "[encoded data removed]"
          },
          "metadata": {}
        }
      ]
    },
    {
      "cell_type": "code",
      "source": [
        "# Plotting Histogram when the Low Rated Player Wins\n",
        "\n",
        "plt.hist(lpw[\"Diff_Rating\"], bins=50)\n",
        "plt.xlabel (\"Difference in Rating\")\n",
        "plt.show()"
      ],
      "metadata": {
        "colab": {
          "base_uri": "https://localhost:8080/",
          "height": 280
        },
        "id": "nLslkIiRHHPt",
        "outputId": "bb8b58bd-f054-407e-e838-3f396c3bc21b"
      },
      "execution_count": 48,
      "outputs": [
        {
          "output_type": "display_data",
          "data": {
            "text/plain": [
              "<Figure size 432x288 with 1 Axes>"
            ],
            "image/png": "[encoded data removed]"
          },
          "metadata": {}
        }
      ]
    },
    {
      "cell_type": "code",
      "source": [
        "# Calculating the probability of player with higher rank winning the game\n",
        "\n",
        "probability_higher_rating_win = hpw_cnt / df_fnl_modified.shape[0]\n",
        "probability_higher_rating_win"
      ],
      "metadata": {
        "colab": {
          "base_uri": "https://localhost:8080/"
        },
        "id": "fzg6gUf1vPLj",
        "outputId": "cd22eebb-8a62-49f6-ac8d-91041fa90a16"
      },
      "execution_count": 49,
      "outputs": [
        {
          "output_type": "execute_result",
          "data": {
            "text/plain": [
              "0.6611453240129167"
            ]
          },
          "metadata": {},
          "execution_count": 49
        }
      ]
    },
    {
      "cell_type": "markdown",
      "source": [
        "Based on the above data, we can infer that in 66% of the games, the player with higher rating has won the game which is almost double the cases, when player with lower rank won the game (34%). "
      ],
      "metadata": {
        "id": "QljkBj4hvXR1"
      }
    },
    {
      "cell_type": "code",
      "source": [
        "# Modify dataframe to only include rows where difference in rating is less than 1000\n",
        "\n",
        "df_diffrtglt1k = df_fnl_modified.loc[df_fnl_modified['Diff_Rating'] < 1000]\n",
        "#print(df_diffrtglt900)\n",
        "\n",
        "# Difference in Rating distribution Grouped by High_Rated_Player_Win\n",
        "\n",
        "chart = plt.figure(figsize=(12,10))\n",
        "ax = sns.histplot(data=df_diffrtglt1k ,x='Diff_Rating',hue='Higher_Rated_Plyr_Win' )\n",
        "ax.set_xlabel(\"Difference in Player Ratings\")\n",
        "ax.set_ylabel(\"Count of Games\")\n",
        "\n",
        "chart.suptitle('Difference in Rating Distribution Plot')\n",
        "\n",
        "#fig, (ax1,ax2) = plt.subplots(1,2,figsize=(18, 6), sharey=False)\n",
        "#fig.tight_layout()\n",
        "plt.show()"
      ],
      "metadata": {
        "colab": {
          "base_uri": "https://localhost:8080/",
          "height": 678
        },
        "id": "9Gts0pB8L0ez",
        "outputId": "01ce7cff-901b-47e6-9b34-ede813cd8891"
      },
      "execution_count": 50,
      "outputs": [
        {
          "output_type": "display_data",
          "data": {
            "text/plain": [
              "<Figure size 864x720 with 1 Axes>"
            ],
            "image/png": "[encoded data removed]"
          },
          "metadata": {}
        }
      ]
    },
    {
      "cell_type": "markdown",
      "source": [
        "Based on the above graph, it is evident that as the Difference in Rating between the players increase, the Higher Rated Player wins more number of games than the lower rated player. And from the computation of probability_higher_rating_win column, the probability is 66% which is ~2x times than the probability of win of a lower rated player"
      ],
      "metadata": {
        "id": "gUUxGm8LkK-D"
      }
    },
    {
      "cell_type": "code",
      "source": [
        "# Box Plots\n",
        "\n",
        "sns.boxplot(data = df_diffrtglt1k,           \n",
        "            x='Higher_Rated_Plyr_Win', y='Diff_Rating'\n",
        "            #,hue=\"stops\", ax=ax1\n",
        "           )\n",
        "plt.show()\n",
        "#ax1.title.set_text('Class = Economy')"
      ],
      "metadata": {
        "colab": {
          "base_uri": "https://localhost:8080/",
          "height": 281
        },
        "id": "3B4BaWFyelUs",
        "outputId": "0d866839-741c-4f64-f078-40a3650819bc"
      },
      "execution_count": 51,
      "outputs": [
        {
          "output_type": "display_data",
          "data": {
            "text/plain": [
              "<Figure size 432x288 with 1 Axes>"
            ],
            "image/png": "[encoded data removed]"
          },
          "metadata": {}
        }
      ]
    },
    {
      "cell_type": "markdown",
      "source": [
        "Atie - we can see above that the mean difference in ratings when the higher ranked player wins is much higher than when they lose which implies the fact that when the difference in the players level of profission increases, the higher ranked player is more likely to win. "
      ],
      "metadata": {
        "id": "NPZdI26UvwCe"
      }
    },
    {
      "cell_type": "markdown",
      "source": [
        "# Hypothesis 3 #"
      ],
      "metadata": {
        "id": "6zV4qG7wpwKY"
      }
    },
    {
      "cell_type": "code",
      "source": [
        "df_fnl.head()"
      ],
      "metadata": {
        "colab": {
          "base_uri": "https://localhost:8080/",
          "height": 270
        },
        "id": "murR9qBOreA5",
        "outputId": "5d00657f-2891-4186-96b6-58ef91e48cd1"
      },
      "execution_count": 52,
      "outputs": [
        {
          "output_type": "execute_result",
          "data": {
            "text/plain": [
              "   WhiteElo  BlackElo Winner   Termination TimeControl  Number_of_Moves  \\\n",
              "0      1516      1480  White  Time forfeit      Bullet               28   \n",
              "1      1231      1814  Black        Normal      Bullet               19   \n",
              "2      1612      1555  Black        Normal      Bullet               13   \n",
              "3      1879      1237  White  Time forfeit      Bullet               21   \n",
              "4      1815      1222  White  Time forfeit      Bullet               33   \n",
              "\n",
              "  Win_Color Rating  TimeControl_Blitz  TimeControl_Bullet  \\\n",
              "0         1      W                  0                   1   \n",
              "1         0      B                  0                   1   \n",
              "2         0      W                  0                   1   \n",
              "3         1      W                  0                   1   \n",
              "4         1      W                  0                   1   \n",
              "\n",
              "   TimeControl_Classical  TimeControl_Rapid  Term_Rul_Normal  \\\n",
              "0                      0                  0                0   \n",
              "1                      0                  0                1   \n",
              "2                      0                  0                1   \n",
              "3                      0                  0                0   \n",
              "4                      0                  0                0   \n",
              "\n",
              "   Term_Rul_Infraction  Term_Rul_Time_Forfeit  Rating_B  Rating_EQ  Rating_W  \\\n",
              "0                    0                      1         0          0         1   \n",
              "1                    0                      0         1          0         0   \n",
              "2                    0                      0         0          0         1   \n",
              "3                    0                      1         0          0         1   \n",
              "4                    0                      1         0          0         1   \n",
              "\n",
              "   Diff_Rating Higher_Rated_Plyr_Win  \n",
              "0           36                     1  \n",
              "1          583                     1  \n",
              "2           57                     0  \n",
              "3          642                     1  \n",
              "4          593                     1  "
            ],
            "text/html": [
              "\n",
              "  <div id=\"df-ac84cfe8-0ba5-4b43-b2b7-25d02b7e8e15\">\n",
              "    <div class=\"colab-df-container\">\n",
              "      <div>\n",
              "<style scoped>\n",
              "    .dataframe tbody tr th:only-of-type {\n",
              "        vertical-align: middle;\n",
              "    }\n",
              "\n",
              "    .dataframe tbody tr th {\n",
              "        vertical-align: top;\n",
              "    }\n",
              "\n",
              "    .dataframe thead th {\n",
              "        text-align: right;\n",
              "    }\n",
              "</style>\n",
              "<table border=\"1\" class=\"dataframe\">\n",
              "  <thead>\n",
              "    <tr style=\"text-align: right;\">\n",
              "      <th></th>\n",
              "      <th>WhiteElo</th>\n",
              "      <th>BlackElo</th>\n",
              "      <th>Winner</th>\n",
              "      <th>Termination</th>\n",
              "      <th>TimeControl</th>\n",
              "      <th>Number_of_Moves</th>\n",
              "      <th>Win_Color</th>\n",
              "      <th>Rating</th>\n",
              "      <th>TimeControl_Blitz</th>\n",
              "      <th>TimeControl_Bullet</th>\n",
              "      <th>TimeControl_Classical</th>\n",
              "      <th>TimeControl_Rapid</th>\n",
              "      <th>Term_Rul_Normal</th>\n",
              "      <th>Term_Rul_Infraction</th>\n",
              "      <th>Term_Rul_Time_Forfeit</th>\n",
              "      <th>Rating_B</th>\n",
              "      <th>Rating_EQ</th>\n",
              "      <th>Rating_W</th>\n",
              "      <th>Diff_Rating</th>\n",
              "      <th>Higher_Rated_Plyr_Win</th>\n",
              "    </tr>\n",
              "  </thead>\n",
              "  <tbody>\n",
              "    <tr>\n",
              "      <th>0</th>\n",
              "      <td>1516</td>\n",
              "      <td>1480</td>\n",
              "      <td>White</td>\n",
              "      <td>Time forfeit</td>\n",
              "      <td>Bullet</td>\n",
              "      <td>28</td>\n",
              "      <td>1</td>\n",
              "      <td>W</td>\n",
              "      <td>0</td>\n",
              "      <td>1</td>\n",
              "      <td>0</td>\n",
              "      <td>0</td>\n",
              "      <td>0</td>\n",
              "      <td>0</td>\n",
              "      <td>1</td>\n",
              "      <td>0</td>\n",
              "      <td>0</td>\n",
              "      <td>1</td>\n",
              "      <td>36</td>\n",
              "      <td>1</td>\n",
              "    </tr>\n",
              "    <tr>\n",
              "      <th>1</th>\n",
              "      <td>1231</td>\n",
              "      <td>1814</td>\n",
              "      <td>Black</td>\n",
              "      <td>Normal</td>\n",
              "      <td>Bullet</td>\n",
              "      <td>19</td>\n",
              "      <td>0</td>\n",
              "      <td>B</td>\n",
              "      <td>0</td>\n",
              "      <td>1</td>\n",
              "      <td>0</td>\n",
              "      <td>0</td>\n",
              "      <td>1</td>\n",
              "      <td>0</td>\n",
              "      <td>0</td>\n",
              "      <td>1</td>\n",
              "      <td>0</td>\n",
              "      <td>0</td>\n",
              "      <td>583</td>\n",
              "      <td>1</td>\n",
              "    </tr>\n",
              "    <tr>\n",
              "      <th>2</th>\n",
              "      <td>1612</td>\n",
              "      <td>1555</td>\n",
              "      <td>Black</td>\n",
              "      <td>Normal</td>\n",
              "      <td>Bullet</td>\n",
              "      <td>13</td>\n",
              "      <td>0</td>\n",
              "      <td>W</td>\n",
              "      <td>0</td>\n",
              "      <td>1</td>\n",
              "      <td>0</td>\n",
              "      <td>0</td>\n",
              "      <td>1</td>\n",
              "      <td>0</td>\n",
              "      <td>0</td>\n",
              "      <td>0</td>\n",
              "      <td>0</td>\n",
              "      <td>1</td>\n",
              "      <td>57</td>\n",
              "      <td>0</td>\n",
              "    </tr>\n",
              "    <tr>\n",
              "      <th>3</th>\n",
              "      <td>1879</td>\n",
              "      <td>1237</td>\n",
              "      <td>White</td>\n",
              "      <td>Time forfeit</td>\n",
              "      <td>Bullet</td>\n",
              "      <td>21</td>\n",
              "      <td>1</td>\n",
              "      <td>W</td>\n",
              "      <td>0</td>\n",
              "      <td>1</td>\n",
              "      <td>0</td>\n",
              "      <td>0</td>\n",
              "      <td>0</td>\n",
              "      <td>0</td>\n",
              "      <td>1</td>\n",
              "      <td>0</td>\n",
              "      <td>0</td>\n",
              "      <td>1</td>\n",
              "      <td>642</td>\n",
              "      <td>1</td>\n",
              "    </tr>\n",
              "    <tr>\n",
              "      <th>4</th>\n",
              "      <td>1815</td>\n",
              "      <td>1222</td>\n",
              "      <td>White</td>\n",
              "      <td>Time forfeit</td>\n",
              "      <td>Bullet</td>\n",
              "      <td>33</td>\n",
              "      <td>1</td>\n",
              "      <td>W</td>\n",
              "      <td>0</td>\n",
              "      <td>1</td>\n",
              "      <td>0</td>\n",
              "      <td>0</td>\n",
              "      <td>0</td>\n",
              "      <td>0</td>\n",
              "      <td>1</td>\n",
              "      <td>0</td>\n",
              "      <td>0</td>\n",
              "      <td>1</td>\n",
              "      <td>593</td>\n",
              "      <td>1</td>\n",
              "    </tr>\n",
              "  </tbody>\n",
              "</table>\n",
              "</div>\n",
              "      <button class=\"colab-df-convert\" onclick=\"convertToInteractive('df-ac84cfe8-0ba5-4b43-b2b7-25d02b7e8e15')\"\n",
              "              title=\"Convert this dataframe to an interactive table.\"\n",
              "              style=\"display:none;\">\n",
              "        \n",
              "  <svg xmlns=\"http://www.w3.org/2000/svg\" height=\"24px\"viewBox=\"0 0 24 24\"\n",
              "       width=\"24px\">\n",
              "    <path d=\"M0 0h24v24H0V0z\" fill=\"none\"/>\n",
              "    <path d=\"M18.56 5.44l.94 2.06.94-2.06 2.06-.94-2.06-.94-.94-2.06-.94 2.06-2.06.94zm-11 1L8.5 8.5l.94-2.06 2.06-.94-2.06-.94L8.5 2.5l-.94 2.06-2.06.94zm10 10l.94 2.06.94-2.06 2.06-.94-2.06-.94-.94-2.06-.94 2.06-2.06.94z\"/><path d=\"M17.41 7.96l-1.37-1.37c-.4-.4-.92-.59-1.43-.59-.52 0-1.04.2-1.43.59L10.3 9.45l-7.72 7.72c-.78.78-.78 2.05 0 2.83L4 21.41c.39.39.9.59 1.41.59.51 0 1.02-.2 1.41-.59l7.78-7.78 2.81-2.81c.8-.78.8-2.07 0-2.86zM5.41 20L4 18.59l7.72-7.72 1.47 1.35L5.41 20z\"/>\n",
              "  </svg>\n",
              "      </button>\n",
              "      \n",
              "  <style>\n",
              "    .colab-df-container {\n",
              "      display:flex;\n",
              "      flex-wrap:wrap;\n",
              "      gap: 12px;\n",
              "    }\n",
              "\n",
              "    .colab-df-convert {\n",
              "      background-color: #E8F0FE;\n",
              "      border: none;\n",
              "      border-radius: 50%;\n",
              "      cursor: pointer;\n",
              "      display: none;\n",
              "      fill: #1967D2;\n",
              "      height: 32px;\n",
              "      padding: 0 0 0 0;\n",
              "      width: 32px;\n",
              "    }\n",
              "\n",
              "    .colab-df-convert:hover {\n",
              "      background-color: #E2EBFA;\n",
              "      box-shadow: 0px 1px 2px rgba(60, 64, 67, 0.3), 0px 1px 3px 1px rgba(60, 64, 67, 0.15);\n",
              "      fill: #174EA6;\n",
              "    }\n",
              "\n",
              "    [theme=dark] .colab-df-convert {\n",
              "      background-color: #3B4455;\n",
              "      fill: #D2E3FC;\n",
              "    }\n",
              "\n",
              "    [theme=dark] .colab-df-convert:hover {\n",
              "      background-color: #434B5C;\n",
              "      box-shadow: 0px 1px 3px 1px rgba(0, 0, 0, 0.15);\n",
              "      filter: drop-shadow(0px 1px 2px rgba(0, 0, 0, 0.3));\n",
              "      fill: #FFFFFF;\n",
              "    }\n",
              "  </style>\n",
              "\n",
              "      <script>\n",
              "        const buttonEl =\n",
              "          document.querySelector('#df-ac84cfe8-0ba5-4b43-b2b7-25d02b7e8e15 button.colab-df-convert');\n",
              "        buttonEl.style.display =\n",
              "          google.colab.kernel.accessAllowed ? 'block' : 'none';\n",
              "\n",
              "        async function convertToInteractive(key) {\n",
              "          const element = document.querySelector('#df-ac84cfe8-0ba5-4b43-b2b7-25d02b7e8e15');\n",
              "          const dataTable =\n",
              "            await google.colab.kernel.invokeFunction('convertToInteractive',\n",
              "                                                     [key], {});\n",
              "          if (!dataTable) return;\n",
              "\n",
              "          const docLinkHtml = 'Like what you see? Visit the ' +\n",
              "            '<a target=\"_blank\" href=https://colab.research.google.com/notebooks/data_table.ipynb>data table notebook</a>'\n",
              "            + ' to learn more about interactive tables.';\n",
              "          element.innerHTML = '';\n",
              "          dataTable['output_type'] = 'display_data';\n",
              "          await google.colab.output.renderOutput(dataTable, element);\n",
              "          const docLink = document.createElement('div');\n",
              "          docLink.innerHTML = docLinkHtml;\n",
              "          element.appendChild(docLink);\n",
              "        }\n",
              "      </script>\n",
              "    </div>\n",
              "  </div>\n",
              "  "
            ]
          },
          "metadata": {},
          "execution_count": 52
        }
      ]
    },
    {
      "cell_type": "code",
      "source": [
        "df_gt = df_fnl.loc[df_fnl['TimeControl'] == 'Bullet']"
      ],
      "metadata": {
        "id": "oEbyVvJQsROH"
      },
      "execution_count": 53,
      "outputs": []
    },
    {
      "cell_type": "code",
      "source": [
        "df_gt.head(10)"
      ],
      "metadata": {
        "colab": {
          "base_uri": "https://localhost:8080/",
          "height": 427
        },
        "id": "bTuvTRvktA-b",
        "outputId": "972c1ea3-ea56-4d92-c206-b2348b961fdb"
      },
      "execution_count": 54,
      "outputs": [
        {
          "output_type": "execute_result",
          "data": {
            "text/plain": [
              "    WhiteElo  BlackElo Winner   Termination TimeControl  Number_of_Moves  \\\n",
              "0       1516      1480  White  Time forfeit      Bullet               28   \n",
              "1       1231      1814  Black        Normal      Bullet               19   \n",
              "2       1612      1555  Black        Normal      Bullet               13   \n",
              "3       1879      1237  White  Time forfeit      Bullet               21   \n",
              "4       1815      1222  White  Time forfeit      Bullet               33   \n",
              "5       1877      1319  White        Normal      Bullet               20   \n",
              "6       1367      1555  Black  Time forfeit      Bullet               10   \n",
              "10      1214      1816  Black  Time forfeit      Bullet               31   \n",
              "11      1878      1243  White  Time forfeit      Bullet               21   \n",
              "12      1600      1863  Black        Normal      Bullet               36   \n",
              "\n",
              "   Win_Color Rating  TimeControl_Blitz  TimeControl_Bullet  \\\n",
              "0          1      W                  0                   1   \n",
              "1          0      B                  0                   1   \n",
              "2          0      W                  0                   1   \n",
              "3          1      W                  0                   1   \n",
              "4          1      W                  0                   1   \n",
              "5          1      W                  0                   1   \n",
              "6          0      B                  0                   1   \n",
              "10         0      B                  0                   1   \n",
              "11         1      W                  0                   1   \n",
              "12         0      B                  0                   1   \n",
              "\n",
              "    TimeControl_Classical  TimeControl_Rapid  Term_Rul_Normal  \\\n",
              "0                       0                  0                0   \n",
              "1                       0                  0                1   \n",
              "2                       0                  0                1   \n",
              "3                       0                  0                0   \n",
              "4                       0                  0                0   \n",
              "5                       0                  0                1   \n",
              "6                       0                  0                0   \n",
              "10                      0                  0                0   \n",
              "11                      0                  0                0   \n",
              "12                      0                  0                1   \n",
              "\n",
              "    Term_Rul_Infraction  Term_Rul_Time_Forfeit  Rating_B  Rating_EQ  Rating_W  \\\n",
              "0                     0                      1         0          0         1   \n",
              "1                     0                      0         1          0         0   \n",
              "2                     0                      0         0          0         1   \n",
              "3                     0                      1         0          0         1   \n",
              "4                     0                      1         0          0         1   \n",
              "5                     0                      0         0          0         1   \n",
              "6                     0                      1         1          0         0   \n",
              "10                    0                      1         1          0         0   \n",
              "11                    0                      1         0          0         1   \n",
              "12                    0                      0         1          0         0   \n",
              "\n",
              "    Diff_Rating Higher_Rated_Plyr_Win  \n",
              "0            36                     1  \n",
              "1           583                     1  \n",
              "2            57                     0  \n",
              "3           642                     1  \n",
              "4           593                     1  \n",
              "5           558                     1  \n",
              "6           188                     1  \n",
              "10          602                     1  \n",
              "11          635                     1  \n",
              "12          263                     1  "
            ],
            "text/html": [
              "\n",
              "  <div id=\"df-f80b8027-51fa-4fbb-9a63-5ad551fcce55\">\n",
              "    <div class=\"colab-df-container\">\n",
              "      <div>\n",
              "<style scoped>\n",
              "    .dataframe tbody tr th:only-of-type {\n",
              "        vertical-align: middle;\n",
              "    }\n",
              "\n",
              "    .dataframe tbody tr th {\n",
              "        vertical-align: top;\n",
              "    }\n",
              "\n",
              "    .dataframe thead th {\n",
              "        text-align: right;\n",
              "    }\n",
              "</style>\n",
              "<table border=\"1\" class=\"dataframe\">\n",
              "  <thead>\n",
              "    <tr style=\"text-align: right;\">\n",
              "      <th></th>\n",
              "      <th>WhiteElo</th>\n",
              "      <th>BlackElo</th>\n",
              "      <th>Winner</th>\n",
              "      <th>Termination</th>\n",
              "      <th>TimeControl</th>\n",
              "      <th>Number_of_Moves</th>\n",
              "      <th>Win_Color</th>\n",
              "      <th>Rating</th>\n",
              "      <th>TimeControl_Blitz</th>\n",
              "      <th>TimeControl_Bullet</th>\n",
              "      <th>TimeControl_Classical</th>\n",
              "      <th>TimeControl_Rapid</th>\n",
              "      <th>Term_Rul_Normal</th>\n",
              "      <th>Term_Rul_Infraction</th>\n",
              "      <th>Term_Rul_Time_Forfeit</th>\n",
              "      <th>Rating_B</th>\n",
              "      <th>Rating_EQ</th>\n",
              "      <th>Rating_W</th>\n",
              "      <th>Diff_Rating</th>\n",
              "      <th>Higher_Rated_Plyr_Win</th>\n",
              "    </tr>\n",
              "  </thead>\n",
              "  <tbody>\n",
              "    <tr>\n",
              "      <th>0</th>\n",
              "      <td>1516</td>\n",
              "      <td>1480</td>\n",
              "      <td>White</td>\n",
              "      <td>Time forfeit</td>\n",
              "      <td>Bullet</td>\n",
              "      <td>28</td>\n",
              "      <td>1</td>\n",
              "      <td>W</td>\n",
              "      <td>0</td>\n",
              "      <td>1</td>\n",
              "      <td>0</td>\n",
              "      <td>0</td>\n",
              "      <td>0</td>\n",
              "      <td>0</td>\n",
              "      <td>1</td>\n",
              "      <td>0</td>\n",
              "      <td>0</td>\n",
              "      <td>1</td>\n",
              "      <td>36</td>\n",
              "      <td>1</td>\n",
              "    </tr>\n",
              "    <tr>\n",
              "      <th>1</th>\n",
              "      <td>1231</td>\n",
              "      <td>1814</td>\n",
              "      <td>Black</td>\n",
              "      <td>Normal</td>\n",
              "      <td>Bullet</td>\n",
              "      <td>19</td>\n",
              "      <td>0</td>\n",
              "      <td>B</td>\n",
              "      <td>0</td>\n",
              "      <td>1</td>\n",
              "      <td>0</td>\n",
              "      <td>0</td>\n",
              "      <td>1</td>\n",
              "      <td>0</td>\n",
              "      <td>0</td>\n",
              "      <td>1</td>\n",
              "      <td>0</td>\n",
              "      <td>0</td>\n",
              "      <td>583</td>\n",
              "      <td>1</td>\n",
              "    </tr>\n",
              "    <tr>\n",
              "      <th>2</th>\n",
              "      <td>1612</td>\n",
              "      <td>1555</td>\n",
              "      <td>Black</td>\n",
              "      <td>Normal</td>\n",
              "      <td>Bullet</td>\n",
              "      <td>13</td>\n",
              "      <td>0</td>\n",
              "      <td>W</td>\n",
              "      <td>0</td>\n",
              "      <td>1</td>\n",
              "      <td>0</td>\n",
              "      <td>0</td>\n",
              "      <td>1</td>\n",
              "      <td>0</td>\n",
              "      <td>0</td>\n",
              "      <td>0</td>\n",
              "      <td>0</td>\n",
              "      <td>1</td>\n",
              "      <td>57</td>\n",
              "      <td>0</td>\n",
              "    </tr>\n",
              "    <tr>\n",
              "      <th>3</th>\n",
              "      <td>1879</td>\n",
              "      <td>1237</td>\n",
              "      <td>White</td>\n",
              "      <td>Time forfeit</td>\n",
              "      <td>Bullet</td>\n",
              "      <td>21</td>\n",
              "      <td>1</td>\n",
              "      <td>W</td>\n",
              "      <td>0</td>\n",
              "      <td>1</td>\n",
              "      <td>0</td>\n",
              "      <td>0</td>\n",
              "      <td>0</td>\n",
              "      <td>0</td>\n",
              "      <td>1</td>\n",
              "      <td>0</td>\n",
              "      <td>0</td>\n",
              "      <td>1</td>\n",
              "      <td>642</td>\n",
              "      <td>1</td>\n",
              "    </tr>\n",
              "    <tr>\n",
              "      <th>4</th>\n",
              "      <td>1815</td>\n",
              "      <td>1222</td>\n",
              "      <td>White</td>\n",
              "      <td>Time forfeit</td>\n",
              "      <td>Bullet</td>\n",
              "      <td>33</td>\n",
              "      <td>1</td>\n",
              "      <td>W</td>\n",
              "      <td>0</td>\n",
              "      <td>1</td>\n",
              "      <td>0</td>\n",
              "      <td>0</td>\n",
              "      <td>0</td>\n",
              "      <td>0</td>\n",
              "      <td>1</td>\n",
              "      <td>0</td>\n",
              "      <td>0</td>\n",
              "      <td>1</td>\n",
              "      <td>593</td>\n",
              "      <td>1</td>\n",
              "    </tr>\n",
              "    <tr>\n",
              "      <th>5</th>\n",
              "      <td>1877</td>\n",
              "      <td>1319</td>\n",
              "      <td>White</td>\n",
              "      <td>Normal</td>\n",
              "      <td>Bullet</td>\n",
              "      <td>20</td>\n",
              "      <td>1</td>\n",
              "      <td>W</td>\n",
              "      <td>0</td>\n",
              "      <td>1</td>\n",
              "      <td>0</td>\n",
              "      <td>0</td>\n",
              "      <td>1</td>\n",
              "      <td>0</td>\n",
              "      <td>0</td>\n",
              "      <td>0</td>\n",
              "      <td>0</td>\n",
              "      <td>1</td>\n",
              "      <td>558</td>\n",
              "      <td>1</td>\n",
              "    </tr>\n",
              "    <tr>\n",
              "      <th>6</th>\n",
              "      <td>1367</td>\n",
              "      <td>1555</td>\n",
              "      <td>Black</td>\n",
              "      <td>Time forfeit</td>\n",
              "      <td>Bullet</td>\n",
              "      <td>10</td>\n",
              "      <td>0</td>\n",
              "      <td>B</td>\n",
              "      <td>0</td>\n",
              "      <td>1</td>\n",
              "      <td>0</td>\n",
              "      <td>0</td>\n",
              "      <td>0</td>\n",
              "      <td>0</td>\n",
              "      <td>1</td>\n",
              "      <td>1</td>\n",
              "      <td>0</td>\n",
              "      <td>0</td>\n",
              "      <td>188</td>\n",
              "      <td>1</td>\n",
              "    </tr>\n",
              "    <tr>\n",
              "      <th>10</th>\n",
              "      <td>1214</td>\n",
              "      <td>1816</td>\n",
              "      <td>Black</td>\n",
              "      <td>Time forfeit</td>\n",
              "      <td>Bullet</td>\n",
              "      <td>31</td>\n",
              "      <td>0</td>\n",
              "      <td>B</td>\n",
              "      <td>0</td>\n",
              "      <td>1</td>\n",
              "      <td>0</td>\n",
              "      <td>0</td>\n",
              "      <td>0</td>\n",
              "      <td>0</td>\n",
              "      <td>1</td>\n",
              "      <td>1</td>\n",
              "      <td>0</td>\n",
              "      <td>0</td>\n",
              "      <td>602</td>\n",
              "      <td>1</td>\n",
              "    </tr>\n",
              "    <tr>\n",
              "      <th>11</th>\n",
              "      <td>1878</td>\n",
              "      <td>1243</td>\n",
              "      <td>White</td>\n",
              "      <td>Time forfeit</td>\n",
              "      <td>Bullet</td>\n",
              "      <td>21</td>\n",
              "      <td>1</td>\n",
              "      <td>W</td>\n",
              "      <td>0</td>\n",
              "      <td>1</td>\n",
              "      <td>0</td>\n",
              "      <td>0</td>\n",
              "      <td>0</td>\n",
              "      <td>0</td>\n",
              "      <td>1</td>\n",
              "      <td>0</td>\n",
              "      <td>0</td>\n",
              "      <td>1</td>\n",
              "      <td>635</td>\n",
              "      <td>1</td>\n",
              "    </tr>\n",
              "    <tr>\n",
              "      <th>12</th>\n",
              "      <td>1600</td>\n",
              "      <td>1863</td>\n",
              "      <td>Black</td>\n",
              "      <td>Normal</td>\n",
              "      <td>Bullet</td>\n",
              "      <td>36</td>\n",
              "      <td>0</td>\n",
              "      <td>B</td>\n",
              "      <td>0</td>\n",
              "      <td>1</td>\n",
              "      <td>0</td>\n",
              "      <td>0</td>\n",
              "      <td>1</td>\n",
              "      <td>0</td>\n",
              "      <td>0</td>\n",
              "      <td>1</td>\n",
              "      <td>0</td>\n",
              "      <td>0</td>\n",
              "      <td>263</td>\n",
              "      <td>1</td>\n",
              "    </tr>\n",
              "  </tbody>\n",
              "</table>\n",
              "</div>\n",
              "      <button class=\"colab-df-convert\" onclick=\"convertToInteractive('df-f80b8027-51fa-4fbb-9a63-5ad551fcce55')\"\n",
              "              title=\"Convert this dataframe to an interactive table.\"\n",
              "              style=\"display:none;\">\n",
              "        \n",
              "  <svg xmlns=\"http://www.w3.org/2000/svg\" height=\"24px\"viewBox=\"0 0 24 24\"\n",
              "       width=\"24px\">\n",
              "    <path d=\"M0 0h24v24H0V0z\" fill=\"none\"/>\n",
              "    <path d=\"M18.56 5.44l.94 2.06.94-2.06 2.06-.94-2.06-.94-.94-2.06-.94 2.06-2.06.94zm-11 1L8.5 8.5l.94-2.06 2.06-.94-2.06-.94L8.5 2.5l-.94 2.06-2.06.94zm10 10l.94 2.06.94-2.06 2.06-.94-2.06-.94-.94-2.06-.94 2.06-2.06.94z\"/><path d=\"M17.41 7.96l-1.37-1.37c-.4-.4-.92-.59-1.43-.59-.52 0-1.04.2-1.43.59L10.3 9.45l-7.72 7.72c-.78.78-.78 2.05 0 2.83L4 21.41c.39.39.9.59 1.41.59.51 0 1.02-.2 1.41-.59l7.78-7.78 2.81-2.81c.8-.78.8-2.07 0-2.86zM5.41 20L4 18.59l7.72-7.72 1.47 1.35L5.41 20z\"/>\n",
              "  </svg>\n",
              "      </button>\n",
              "      \n",
              "  <style>\n",
              "    .colab-df-container {\n",
              "      display:flex;\n",
              "      flex-wrap:wrap;\n",
              "      gap: 12px;\n",
              "    }\n",
              "\n",
              "    .colab-df-convert {\n",
              "      background-color: #E8F0FE;\n",
              "      border: none;\n",
              "      border-radius: 50%;\n",
              "      cursor: pointer;\n",
              "      display: none;\n",
              "      fill: #1967D2;\n",
              "      height: 32px;\n",
              "      padding: 0 0 0 0;\n",
              "      width: 32px;\n",
              "    }\n",
              "\n",
              "    .colab-df-convert:hover {\n",
              "      background-color: #E2EBFA;\n",
              "      box-shadow: 0px 1px 2px rgba(60, 64, 67, 0.3), 0px 1px 3px 1px rgba(60, 64, 67, 0.15);\n",
              "      fill: #174EA6;\n",
              "    }\n",
              "\n",
              "    [theme=dark] .colab-df-convert {\n",
              "      background-color: #3B4455;\n",
              "      fill: #D2E3FC;\n",
              "    }\n",
              "\n",
              "    [theme=dark] .colab-df-convert:hover {\n",
              "      background-color: #434B5C;\n",
              "      box-shadow: 0px 1px 3px 1px rgba(0, 0, 0, 0.15);\n",
              "      filter: drop-shadow(0px 1px 2px rgba(0, 0, 0, 0.3));\n",
              "      fill: #FFFFFF;\n",
              "    }\n",
              "  </style>\n",
              "\n",
              "      <script>\n",
              "        const buttonEl =\n",
              "          document.querySelector('#df-f80b8027-51fa-4fbb-9a63-5ad551fcce55 button.colab-df-convert');\n",
              "        buttonEl.style.display =\n",
              "          google.colab.kernel.accessAllowed ? 'block' : 'none';\n",
              "\n",
              "        async function convertToInteractive(key) {\n",
              "          const element = document.querySelector('#df-f80b8027-51fa-4fbb-9a63-5ad551fcce55');\n",
              "          const dataTable =\n",
              "            await google.colab.kernel.invokeFunction('convertToInteractive',\n",
              "                                                     [key], {});\n",
              "          if (!dataTable) return;\n",
              "\n",
              "          const docLinkHtml = 'Like what you see? Visit the ' +\n",
              "            '<a target=\"_blank\" href=https://colab.research.google.com/notebooks/data_table.ipynb>data table notebook</a>'\n",
              "            + ' to learn more about interactive tables.';\n",
              "          element.innerHTML = '';\n",
              "          dataTable['output_type'] = 'display_data';\n",
              "          await google.colab.output.renderOutput(dataTable, element);\n",
              "          const docLink = document.createElement('div');\n",
              "          docLink.innerHTML = docLinkHtml;\n",
              "          element.appendChild(docLink);\n",
              "        }\n",
              "      </script>\n",
              "    </div>\n",
              "  </div>\n",
              "  "
            ]
          },
          "metadata": {},
          "execution_count": 54
        }
      ]
    },
    {
      "cell_type": "code",
      "source": [
        "df_gt.dtypes"
      ],
      "metadata": {
        "colab": {
          "base_uri": "https://localhost:8080/"
        },
        "id": "KokaxNhouxBt",
        "outputId": "5849fa71-1a6e-4308-ae1f-3d1f5a5577a7"
      },
      "execution_count": 55,
      "outputs": [
        {
          "output_type": "execute_result",
          "data": {
            "text/plain": [
              "WhiteElo                  int64\n",
              "BlackElo                  int64\n",
              "Winner                   object\n",
              "Termination              object\n",
              "TimeControl              object\n",
              "Number_of_Moves           int64\n",
              "Win_Color                object\n",
              "Rating                   object\n",
              "TimeControl_Blitz         uint8\n",
              "TimeControl_Bullet        uint8\n",
              "TimeControl_Classical     uint8\n",
              "TimeControl_Rapid         uint8\n",
              "Term_Rul_Normal           uint8\n",
              "Term_Rul_Infraction       uint8\n",
              "Term_Rul_Time_Forfeit     uint8\n",
              "Rating_B                  uint8\n",
              "Rating_EQ                 uint8\n",
              "Rating_W                  uint8\n",
              "Diff_Rating               int64\n",
              "Higher_Rated_Plyr_Win    object\n",
              "dtype: object"
            ]
          },
          "metadata": {},
          "execution_count": 55
        }
      ]
    },
    {
      "cell_type": "code",
      "source": [
        "# Random Sampling\n",
        "\n",
        "samplesize = 100\n",
        "whitewin = 0\n",
        "x_data = []\n",
        "y_data = []\n",
        "\n",
        "for num_simulations in range(1, 1001):\n",
        "    df_gt_sample = df_gt.sample(n=samplesize)\n",
        "    whitewin += len(df_gt_sample[df_gt_sample.Win_Color == 1])\n",
        "    y_data.append(float(whitewin) / float(num_simulations*samplesize))\n",
        "    x_data.append(num_simulations)\n",
        "\n",
        "plt.plot(x_data,y_data)"
      ],
      "metadata": {
        "colab": {
          "base_uri": "https://localhost:8080/",
          "height": 283
        },
        "id": "M6Ln692Fuh04",
        "outputId": "bde08b6f-8c34-4bbe-fd86-b25f9510a167"
      },
      "execution_count": 56,
      "outputs": [
        {
          "output_type": "execute_result",
          "data": {
            "text/plain": [
              "[<matplotlib.lines.Line2D at 0x7f76c086e8e0>]"
            ]
          },
          "metadata": {},
          "execution_count": 56
        },
        {
          "output_type": "display_data",
          "data": {
            "text/plain": [
              "<Figure size 432x288 with 1 Axes>"
            ],
            "image/png": "[encoded data removed]"
          },
          "metadata": {}
        }
      ]
    },
    {
      "cell_type": "markdown",
      "source": [
        "Based on the above plot, the probability of white winning in any game (less < 3 mins, Gametype == Bullet was used for the purpose of this illustration) is about 0.53. Though this is slightly higher than the ideal mean of 0.5, but it is not strong enough to indicate a bias towards white for any game."
      ],
      "metadata": {
        "id": "xm-WDTPiv2B-"
      }
    },
    {
      "cell_type": "code",
      "source": [
        "samplesize_gt = len(df_gt_sample.index)\n",
        "#whitewin_gt = len(df_gt_sample[df_gt_sample.Win_Color == 1])\n",
        "#pointestimate_gt = whitewin_gt/samplesize_gt\n",
        "pointestimate_gt = y_data[num_simulations-1]\n",
        "print (\"pointestimate:\", pointestimate_gt)\n",
        "#p for null hypothesis\n",
        "po_gt = 0.5\n",
        "#standard error for null hypothesis\n",
        "SEo_gt = np.sqrt(((po_gt*(1-po_gt))/samplesize_gt))\n",
        "print (\"Standard Error:\", SEo_gt)\n",
        "\n",
        "sigma_gt = SEo_gt * np.sqrt(samplesize_gt)\n",
        "print (\"Sigma:\", sigma_gt)\n",
        "\n",
        "z = (pointestimate_gt - po_gt)/SEo_gt\n",
        "print (\"Z Value:\", z)\n",
        "\n",
        "#right vs left\n",
        "pnew_gt = 2*norm.sf(abs(z))\n",
        "\n",
        "print (\"New P-value\", pnew_gt)"
      ],
      "metadata": {
        "colab": {
          "base_uri": "https://localhost:8080/"
        },
        "id": "zPdTu4sEuhx0",
        "outputId": "d4d85ead-2411-48ab-fce9-b8fec86b69e3"
      },
      "execution_count": 58,
      "outputs": [
        {
          "output_type": "stream",
          "name": "stdout",
          "text": [
            "pointestimate: 0.52757\n",
            "Standard Error: 0.05\n",
            "Sigma: 0.5\n",
            "Z Value: 0.5513999999999997\n",
            "New P-value 0.5813595006947428\n"
          ]
        }
      ]
    },
    {
      "cell_type": "code",
      "source": [
        "if pnew_gt <= 0.05:\n",
        "    print(\"The new p-value is less than 0.05 and hence the NULL hypothesis can be rejected with 95% confidence. The probability of winning is not equal for both white and black\")\n",
        "else:\n",
        "    print(\"The new p-value is greater than 0.05 and hence the NULL hypothesis cannot be rejected. There is no strong evidence to reject that winning is equal for both white and black\")\n",
        "    "
      ],
      "metadata": {
        "colab": {
          "base_uri": "https://localhost:8080/"
        },
        "id": "Uy7ZMNvoxlYl",
        "outputId": "189ad841-5452-4292-fd5c-4edc4bfc94bf"
      },
      "execution_count": 59,
      "outputs": [
        {
          "output_type": "stream",
          "name": "stdout",
          "text": [
            "The new p-value is greater than 0.05 and hence the NULL hypothesis cannot be rejected. There is no strong evidence to reject that winning is equal for both white and black\n"
          ]
        }
      ]
    },
    {
      "cell_type": "code",
      "source": [
        "plt.figure(figsize=(12,10))\n",
        "\n",
        "#find the value where the 95% confidence level starts\n",
        "x_cr = norm.ppf(0.025, loc=po_gt, scale=sigma_gt)\n",
        "x_r = (po_gt - x_cr) + po_gt\n",
        "\n",
        "start = po_gt-3*(sigma_gt)\n",
        "end = po_gt+3*(sigma_gt)\n",
        "if po_gt < pointestimate_gt:\n",
        "    pnew_gt = 1 - pnew_gt\n",
        "\n",
        "x = np.linspace(start, end, 1000)\n",
        "plt.plot(x, norm.pdf(x, loc=po_gt, scale=sigma_gt))\n",
        "plt.title(\"Null hypothesis\")\n",
        "plt.fill_between(x=np.arange(start, (start + abs(x_cr)), 0.01), y1=norm.pdf(np.arange(start, (start + abs(x_cr)), 0.01), loc=po_gt, scale=sigma_gt),\n",
        "                 facecolor='red')\n",
        "plt.fill_between(x=np.arange(x_r,end, 0.01), y1= norm.pdf(np.arange(x_r, end,0.01), loc=po_gt, scale=sigma_gt) ,\n",
        "                 facecolor='red')\n",
        "\n",
        "plt.text(x=0.30, y=0.5, s= \"Null Hypothesis\")\n",
        "plt.text(x=0.27, y=0.47, s= 'Fail to Reject the null')\n",
        "plt.text(x=0.30, y=0.45, s=r'$1- \\alpha$')\n",
        "plt.text(x=-0.75, y=0.04, s= \"Reject the Null\")\n",
        "plt.text(x=1.6, y=0.04, s= \"Reject the Null\")\n",
        "\n",
        "plt.vlines(norm.ppf(pnew_gt, loc=po_gt, scale=sigma_gt), 0, 0.8, colors='r', linestyles='dotted', label='P New')\n",
        "plt.vlines(po_gt, 0, 0.8, colors='b', linestyles='solid', label='P NULL')\n",
        "\n",
        "plt.legend(loc=\"upper right\")"
      ],
      "metadata": {
        "colab": {
          "base_uri": "https://localhost:8080/",
          "height": 623
        },
        "id": "BRICceolWmpv",
        "outputId": "c46ee120-3f93-4725-d2fe-c2624fab89d5"
      },
      "execution_count": 60,
      "outputs": [
        {
          "output_type": "execute_result",
          "data": {
            "text/plain": [
              "<matplotlib.legend.Legend at 0x7f76bfdfff40>"
            ]
          },
          "metadata": {},
          "execution_count": 60
        },
        {
          "output_type": "display_data",
          "data": {
            "text/plain": [
              "<Figure size 864x720 with 1 Axes>"
            ],
            "image/png": "[encoded data removed]"
          },
          "metadata": {}
        }
      ]
    },
    {
      "cell_type": "markdown",
      "source": [
        "# Predictive Model #"
      ],
      "metadata": {
        "id": "Vi310vNUMQ_c"
      }
    },
    {
      "cell_type": "markdown",
      "source": [
        "## Logistic Regression ##"
      ],
      "metadata": {
        "id": "FPRtKbGwegUJ"
      }
    },
    {
      "cell_type": "markdown",
      "source": [
        "### Feature Selection - Split Predictor and Response variables ###"
      ],
      "metadata": {
        "id": "2JhAX3IPlBKI"
      }
    },
    {
      "cell_type": "code",
      "source": [
        "# Separating the predictor and response variables\n",
        "#predictors = data_fnl_md[['Number_of_Moves', 'TimeControl_Bullet','TimeControl_Classical','TimeControl_Rapid','Term_Rul_Infraction', 'Term_Rul_Forfeit', 'Rating_B', 'Rating_EQ', 'Rating_W']]\n",
        "pred_var = ['Number_of_Moves', 'Diff_Rating','TimeControl_Blitz', 'TimeControl_Bullet', 'TimeControl_Classical', 'TimeControl_Rapid', 'Term_Rul_Normal', 'Term_Rul_Infraction','Term_Rul_Time_Forfeit','Rating_B','Rating_EQ', 'Rating_W']\n",
        "resp_var = ['Win_Color']"
      ],
      "metadata": {
        "id": "6oPrDevIQRvT"
      },
      "execution_count": 61,
      "outputs": []
    },
    {
      "cell_type": "markdown",
      "source": [
        "### Fitting the entire dataset using the Logit link Function ###"
      ],
      "metadata": {
        "id": "4qGEVViflQwp"
      }
    },
    {
      "cell_type": "code",
      "source": [
        "# Fitting the Model\n",
        "m = Logit(df_fnl[resp_var].astype(float) ,df_fnl[pred_var].astype(float))\n",
        "m = m.fit()"
      ],
      "metadata": {
        "colab": {
          "base_uri": "https://localhost:8080/"
        },
        "id": "BCnMemCzhXko",
        "outputId": "6faf42b9-053d-44e9-e347-63298a6947f3"
      },
      "execution_count": 62,
      "outputs": [
        {
          "output_type": "stream",
          "name": "stdout",
          "text": [
            "Warning: Maximum number of iterations has been exceeded.\n",
            "         Current function value: 0.638950\n",
            "         Iterations: 35\n"
          ]
        },
        {
          "output_type": "stream",
          "name": "stderr",
          "text": [
            "/usr/local/lib/python3.8/dist-packages/statsmodels/base/model.py:566: ConvergenceWarning: Maximum Likelihood optimization failed to converge. Check mle_retvals\n",
            "  warnings.warn(\"Maximum Likelihood optimization failed to \"\n"
          ]
        }
      ]
    },
    {
      "cell_type": "code",
      "source": [
        "m.params"
      ],
      "metadata": {
        "colab": {
          "base_uri": "https://localhost:8080/"
        },
        "id": "MdDqW2K5PkQp",
        "outputId": "eb0671be-5598-4143-979c-c823777c105c"
      },
      "execution_count": 63,
      "outputs": [
        {
          "output_type": "execute_result",
          "data": {
            "text/plain": [
              "Number_of_Moves          -0.003708\n",
              "Diff_Rating               0.000068\n",
              "TimeControl_Blitz         1.483603\n",
              "TimeControl_Bullet        1.467847\n",
              "TimeControl_Classical     1.414159\n",
              "TimeControl_Rapid         1.455898\n",
              "Term_Rul_Normal          -3.183873\n",
              "Term_Rul_Infraction      12.180858\n",
              "Term_Rul_Time_Forfeit    -3.175505\n",
              "Rating_B                  1.256436\n",
              "Rating_EQ                 1.978603\n",
              "Rating_W                  2.586465\n",
              "dtype: float64"
            ]
          },
          "metadata": {},
          "execution_count": 63
        }
      ]
    },
    {
      "cell_type": "code",
      "source": [
        "print(m.summary2())"
      ],
      "metadata": {
        "colab": {
          "base_uri": "https://localhost:8080/"
        },
        "id": "g3J0RHT0PmNM",
        "outputId": "dab5c9b9-0237-4887-a2f2-2678063f9f73"
      },
      "execution_count": 64,
      "outputs": [
        {
          "output_type": "stream",
          "name": "stdout",
          "text": [
            "                                Results: Logit\n",
            "===============================================================================\n",
            "Model:                  Logit                Pseudo R-squared:     0.076       \n",
            "Dependent Variable:     Win_Color            AIC:                  4177883.4285\n",
            "Date:                   2022-12-12 23:50     BIC:                  4178013.4295\n",
            "No. Observations:       3269322              Log-Likelihood:       -2.0889e+06 \n",
            "Df Model:               9                    LL-Null:              -2.2609e+06 \n",
            "Df Residuals:           3269312              LLR p-value:          0.0000      \n",
            "Converged:              0.0000               Scale:                1.0000      \n",
            "No. Iterations:         35.0000                                                \n",
            "-------------------------------------------------------------------------------\n",
            "                       Coef.   Std.Err.     z     P>|z|     [0.025     0.975]  \n",
            "-------------------------------------------------------------------------------\n",
            "Number_of_Moves       -0.0037     0.0001 -48.1434 0.0000     -0.0039    -0.0036\n",
            "Diff_Rating            0.0001     0.0000   7.5911 0.0000      0.0001     0.0001\n",
            "TimeControl_Blitz      1.4836        nan      nan    nan         nan        nan\n",
            "TimeControl_Bullet     1.4678        nan      nan    nan         nan        nan\n",
            "TimeControl_Classical  1.4142        nan      nan    nan         nan        nan\n",
            "TimeControl_Rapid      1.4559        nan      nan    nan         nan        nan\n",
            "Term_Rul_Normal       -3.1839 21967.9373  -0.0001 0.9999 -43059.5498 43053.1821\n",
            "Term_Rul_Infraction   12.1809 21969.0013   0.0006 0.9996 -43046.2705 43070.6322\n",
            "Term_Rul_Time_Forfeit -3.1755 21967.9373  -0.0001 0.9999 -43059.5415 43053.1905\n",
            "Rating_B               1.2564        nan      nan    nan         nan        nan\n",
            "Rating_EQ              1.9786        nan      nan    nan         nan        nan\n",
            "Rating_W               2.5865        nan      nan    nan         nan        nan\n",
            "===============================================================================\n",
            "\n"
          ]
        }
      ]
    },
    {
      "cell_type": "markdown",
      "source": [
        "As it can be inferred from the summary statistics, \"*Term_Rul_*\" variables have an extremely high p value which indicates that this feature is not significant to the response variable. Therefore, this variable has to be removed.\n",
        "\n",
        "Re-run the model after removing this variable"
      ],
      "metadata": {
        "id": "6MfWYlu2lpk1"
      }
    },
    {
      "cell_type": "markdown",
      "source": [
        "## Logistic Regression using sklearn ##"
      ],
      "metadata": {
        "id": "LAHsKWvJ1dFs"
      }
    },
    {
      "cell_type": "markdown",
      "source": [
        "### Feature Selection - Split Predictor and Response variables ###"
      ],
      "metadata": {
        "id": "m0J4Zq8hmVlJ"
      }
    },
    {
      "cell_type": "code",
      "source": [
        "# Creating Predictor and Response variables after removing Term_Rul variables from the list of predictors #\n",
        "\n",
        "pred_var_2 = ['Number_of_Moves', 'Diff_Rating','TimeControl_Blitz', 'TimeControl_Bullet', 'TimeControl_Classical', 'TimeControl_Rapid','Rating_B','Rating_EQ', 'Rating_W']\n",
        "resp_var_2 = ['Win_Color']"
      ],
      "metadata": {
        "id": "jZ5ohlg5kpg7"
      },
      "execution_count": 65,
      "outputs": []
    },
    {
      "cell_type": "markdown",
      "source": [
        "### Train Test Split ###"
      ],
      "metadata": {
        "id": "w-vdi87LxF14"
      }
    },
    {
      "cell_type": "code",
      "source": [
        "from sklearn.model_selection import train_test_split\n",
        "X_train_2, X_test_2, y_train_2, y_test_2 = train_test_split(df_fnl[pred_var_2],df_fnl[resp_var_2], test_size = 0.30, random_state=0)"
      ],
      "metadata": {
        "id": "O14turI-E8eH"
      },
      "execution_count": 66,
      "outputs": []
    },
    {
      "cell_type": "markdown",
      "source": [
        "### Feature Scaling ###"
      ],
      "metadata": {
        "id": "K3iIfRfExJxS"
      }
    },
    {
      "cell_type": "code",
      "source": [
        "from sklearn.preprocessing import  StandardScaler\n",
        "sc = StandardScaler()\n",
        "X_train_2_scaled = sc.fit_transform(X_train_2)\n",
        "X_test_2_scaled = sc.transform(X_test_2)"
      ],
      "metadata": {
        "id": "3XgWvlWysUEs"
      },
      "execution_count": 67,
      "outputs": []
    },
    {
      "cell_type": "code",
      "source": [
        "# Transforming the response variable from an object to an int datatype before passing it into the model\n",
        "\n",
        "y_train_2=y_train_2.astype('int')\n",
        "y_test_2=y_test_2.astype('int')"
      ],
      "metadata": {
        "id": "QvG5u67rsPU0"
      },
      "execution_count": 68,
      "outputs": []
    },
    {
      "cell_type": "code",
      "source": [
        "print(\"Number of rows in Training Dataset\" , X_train_2.shape[0])\n",
        "print(\"Number of cols in Training Dataset\" , X_train_2.shape[1])\n",
        "print(\"Number of response cols in Training Dataset\" , y_train_2.shape[1])\n",
        "print(\"Number of rows in Test Dataset\" , X_test_2.shape[0])\n",
        "print(\"Number of cols in Test Dataset\" , X_test_2.shape[1])\n",
        "print(\"Number of response cols in Test Dataset\" , y_train_2.shape[1])"
      ],
      "metadata": {
        "colab": {
          "base_uri": "https://localhost:8080/"
        },
        "id": "m5WKrDvhJMgE",
        "outputId": "003341d8-2380-4a43-a584-28a477111ae1"
      },
      "execution_count": 69,
      "outputs": [
        {
          "output_type": "stream",
          "name": "stdout",
          "text": [
            "Number of rows in Training Dataset 2288525\n",
            "Number of cols in Training Dataset 9\n",
            "Number of response cols in Training Dataset 1\n",
            "Number of rows in Test Dataset 980797\n",
            "Number of cols in Test Dataset 9\n",
            "Number of response cols in Test Dataset 1\n"
          ]
        }
      ]
    },
    {
      "cell_type": "markdown",
      "source": [
        "### Model Fitting and Prediction using the sklearn package ###"
      ],
      "metadata": {
        "id": "OyRFeLLuxTj9"
      }
    },
    {
      "cell_type": "code",
      "source": [
        "# Fitting the Model\n",
        "\n",
        "from sklearn.linear_model import LogisticRegression\n",
        "log_reg_m2 = LogisticRegression(random_state=0)\n",
        "log_reg_m2.fit(X_train_2_scaled, y_train_2)"
      ],
      "metadata": {
        "colab": {
          "base_uri": "https://localhost:8080/"
        },
        "id": "1J95vtomHFQU",
        "outputId": "d6ccc8f2-e270-4d4e-f8c1-d15225c88472"
      },
      "execution_count": 70,
      "outputs": [
        {
          "output_type": "stream",
          "name": "stderr",
          "text": [
            "/usr/local/lib/python3.8/dist-packages/sklearn/utils/validation.py:993: DataConversionWarning: A column-vector y was passed when a 1d array was expected. Please change the shape of y to (n_samples, ), for example using ravel().\n",
            "  y = column_or_1d(y, warn=True)\n"
          ]
        },
        {
          "output_type": "execute_result",
          "data": {
            "text/plain": [
              "LogisticRegression(random_state=0)"
            ]
          },
          "metadata": {},
          "execution_count": 70
        }
      ]
    },
    {
      "cell_type": "code",
      "source": [
        "log_reg_m2"
      ],
      "metadata": {
        "colab": {
          "base_uri": "https://localhost:8080/"
        },
        "id": "zGrQLcUoQzGi",
        "outputId": "ab960dff-ece4-4f4b-cef5-3e4f5763ed78"
      },
      "execution_count": 71,
      "outputs": [
        {
          "output_type": "execute_result",
          "data": {
            "text/plain": [
              "LogisticRegression(random_state=0)"
            ]
          },
          "metadata": {},
          "execution_count": 71
        }
      ]
    },
    {
      "cell_type": "code",
      "source": [
        "# Prediction based on Training dataset\n",
        "\n",
        "log_reg_m2.predict(X_train_2_scaled)"
      ],
      "metadata": {
        "colab": {
          "base_uri": "https://localhost:8080/"
        },
        "id": "VDpkvzC7P6Tr",
        "outputId": "38ec7521-3656-479a-c91e-5ee7ccc3f522"
      },
      "execution_count": 72,
      "outputs": [
        {
          "output_type": "execute_result",
          "data": {
            "text/plain": [
              "array([1, 0, 0, ..., 0, 1, 0])"
            ]
          },
          "metadata": {},
          "execution_count": 72
        }
      ]
    },
    {
      "cell_type": "code",
      "source": [
        "# Prediction based on Testing dataset\n",
        "\n",
        "y_pred_2 = log_reg_m2.predict(X_test_2_scaled)"
      ],
      "metadata": {
        "id": "GIxR9lJCRfvq"
      },
      "execution_count": 73,
      "outputs": []
    },
    {
      "cell_type": "markdown",
      "source": [
        "### Model Evaluation ###"
      ],
      "metadata": {
        "id": "D-S8eq_zxfXL"
      }
    },
    {
      "cell_type": "code",
      "source": [
        "from sklearn.metrics import classification_report\n",
        "print(classification_report(y_test_2, y_pred_2))"
      ],
      "metadata": {
        "colab": {
          "base_uri": "https://localhost:8080/"
        },
        "id": "4OJsgt1Cp_X1",
        "outputId": "078cff09-3ba3-49dd-a952-17892632b600"
      },
      "execution_count": 74,
      "outputs": [
        {
          "output_type": "stream",
          "name": "stdout",
          "text": [
            "              precision    recall  f1-score   support\n",
            "\n",
            "           0       0.64      0.65      0.64    462721\n",
            "           1       0.68      0.67      0.68    518076\n",
            "\n",
            "    accuracy                           0.66    980797\n",
            "   macro avg       0.66      0.66      0.66    980797\n",
            "weighted avg       0.66      0.66      0.66    980797\n",
            "\n"
          ]
        }
      ]
    },
    {
      "cell_type": "code",
      "source": [
        "# Accuracy Score in %\n",
        "\n",
        "from sklearn.metrics import accuracy_score\n",
        "round(accuracy_score(y_test_2, y_pred_2) *100,2)"
      ],
      "metadata": {
        "colab": {
          "base_uri": "https://localhost:8080/"
        },
        "id": "B9icaP_nqvC9",
        "outputId": "9d79a8d0-a942-438c-aa35-cd47e57fdefa"
      },
      "execution_count": 75,
      "outputs": [
        {
          "output_type": "execute_result",
          "data": {
            "text/plain": [
              "66.04"
            ]
          },
          "metadata": {},
          "execution_count": 75
        }
      ]
    },
    {
      "cell_type": "code",
      "source": [
        "# Confusion Matrix\n",
        "\n",
        "from sklearn.metrics import confusion_matrix\n",
        "cm = confusion_matrix(y_test_2, y_pred_2)\n",
        "cm"
      ],
      "metadata": {
        "colab": {
          "base_uri": "https://localhost:8080/"
        },
        "id": "bUTqJ5-PqWAo",
        "outputId": "e5c36181-bd2c-4924-fa9f-950e79143a68"
      },
      "execution_count": 76,
      "outputs": [
        {
          "output_type": "execute_result",
          "data": {
            "text/plain": [
              "array([[299283, 163438],\n",
              "       [169612, 348464]])"
            ]
          },
          "metadata": {},
          "execution_count": 76
        }
      ]
    },
    {
      "cell_type": "code",
      "source": [
        "# Visualizing the confusion matrix\n",
        "\n",
        "plt.figure(figsize = (10,7))\n",
        "sns.heatmap(cm, annot=True)\n",
        "plt.xlabel('Predicted')\n",
        "plt.ylabel('Truth')"
      ],
      "metadata": {
        "colab": {
          "base_uri": "https://localhost:8080/",
          "height": 460
        },
        "id": "5jYPSdkMwURS",
        "outputId": "0262c90f-a4a7-4a31-c614-967a37dd778d"
      },
      "execution_count": 77,
      "outputs": [
        {
          "output_type": "execute_result",
          "data": {
            "text/plain": [
              "Text(68.7, 0.5, 'Truth')"
            ]
          },
          "metadata": {},
          "execution_count": 77
        },
        {
          "output_type": "display_data",
          "data": {
            "text/plain": [
              "<Figure size 720x504 with 2 Axes>"
            ],
            "image/png": "[encoded data removed]"
          },
          "metadata": {}
        }
      ]
    },
    {
      "cell_type": "code",
      "source": [
        "# Computing the TP, FP, FN, TP\n",
        "\n",
        "tn, fp, fn, tp = cm.flatten()\n",
        "print(tn,fp, fn, tp)"
      ],
      "metadata": {
        "colab": {
          "base_uri": "https://localhost:8080/"
        },
        "id": "jN71F1XTxffo",
        "outputId": "d6cea4de-7574-4d18-8dba-4f58dcdce756"
      },
      "execution_count": 78,
      "outputs": [
        {
          "output_type": "stream",
          "name": "stdout",
          "text": [
            "299283 163438 169612 348464\n"
          ]
        }
      ]
    },
    {
      "cell_type": "code",
      "source": [
        "# Compute Model Precision, Recall & Specificity\n",
        "\n",
        "# Precision\n",
        "prc = tp / (tp + fp)\n",
        "\n",
        "# Recall or TPR (True Positive Rate) or Sensitivity\n",
        "rec = tp / (tp + fn)\n",
        "\n",
        "spec = tn / (tn + fp) \n",
        "print (\"Model's precision is %1.2f ; Recall / TPR / Sensitivity is %1.2f ; Specificity is %1.2f\" %  (prc, rec, spec))"
      ],
      "metadata": {
        "colab": {
          "base_uri": "https://localhost:8080/"
        },
        "id": "aRmCh5NhygjV",
        "outputId": "9a4f4c6a-f25b-4aef-e718-ca520eda5c80"
      },
      "execution_count": 79,
      "outputs": [
        {
          "output_type": "stream",
          "name": "stdout",
          "text": [
            "Model's precision is 0.68 ; Recall / TPR / Sensitivity is 0.67 ; Specificity is 0.65\n"
          ]
        }
      ]
    },
    {
      "cell_type": "code",
      "source": [
        "# ROC Curve\n",
        "\n",
        "from sklearn.metrics import roc_auc_score as auc\n",
        "print(auc(y_test_2, y_pred_2))"
      ],
      "metadata": {
        "colab": {
          "base_uri": "https://localhost:8080/"
        },
        "id": "wVVcenKlNU2p",
        "outputId": "f72bd1e8-431e-45ce-d7b5-c7d441b43b54"
      },
      "execution_count": 80,
      "outputs": [
        {
          "output_type": "stream",
          "name": "stdout",
          "text": [
            "0.6597005291657806\n"
          ]
        }
      ]
    },
    {
      "cell_type": "code",
      "source": [
        "# F1 Score\n",
        "\n",
        "# F-1 Score or Harmonic Mean\n",
        "f1 = (\n",
        "    (2. * rec * prc) /\n",
        "    (rec + prc))\n",
        "\n",
        "print (\"Model's F1 Score is %1.2f\" %  (f1))"
      ],
      "metadata": {
        "id": "pyx5HzhjBteU",
        "colab": {
          "base_uri": "https://localhost:8080/"
        },
        "outputId": "cc2f2c95-75fe-4a58-83a4-82b47cac4dbc"
      },
      "execution_count": 81,
      "outputs": [
        {
          "output_type": "stream",
          "name": "stdout",
          "text": [
            "Model's F1 Score is 0.68\n"
          ]
        }
      ]
    },
    {
      "cell_type": "markdown",
      "source": [
        "As we can see, both the techniques give us a good accuracy score of 66% with a F1 Score of 68% , whoch means that the model is able to predict the Winner of the game with a reasonable accuracy.\n",
        "\n",
        "**Game Outcome ** \n",
        "\n",
        "1 - White wins the game\n",
        "0 - Black wins the game or White Loses the Game"
      ],
      "metadata": {
        "id": "jpDt8xFvvemH"
      }
    }
  ]
}